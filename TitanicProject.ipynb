{
 "cells": [
  {
   "cell_type": "code",
   "execution_count": 1,
   "id": "6298a931",
   "metadata": {
    "scrolled": true,
    "slideshow": {
     "slide_type": "slide"
    }
   },
   "outputs": [],
   "source": [
    "import pandas as pd\n",
    "import numpy as np\n",
    "import re #required for regular expressions\n",
    "import copy\n",
    "import matplotlib.pyplot as plt\n",
    "\n",
    "from sklearn import preprocessing\n",
    "from sklearn.preprocessing import MinMaxScaler\n",
    "from sklearn.preprocessing import LabelEncoder\n",
    "\n",
    "from sklearn.model_selection import GridSearchCV, cross_val_score, train_test_split\n",
    "from sklearn.metrics import confusion_matrix\n",
    "import statsmodels.api as sm\n",
    "import scipy.stats as stats\n",
    "\n",
    "#Classifiers:\n",
    "from sklearn.linear_model import LogisticRegression\n",
    "from sklearn.ensemble import RandomForestClassifier\n",
    "from sklearn.neighbors import KNeighborsClassifier\n",
    "\n",
    "scaler = MinMaxScaler()"
   ]
  },
  {
   "cell_type": "code",
   "execution_count": 2,
   "id": "e80f19e3",
   "metadata": {
    "slideshow": {
     "slide_type": "skip"
    }
   },
   "outputs": [],
   "source": [
    "#Sources:\n",
    "#https://machinelearningmastery.com/hyperparameters-for-classification-machine-learning-algorithms/\n",
    "#https://rstudio-pubs-static.s3.amazonaws.com/348904_1a80d04f436f4a41892179fbae1270c9.html"
   ]
  },
  {
   "cell_type": "markdown",
   "id": "e8ba7c3f",
   "metadata": {
    "slideshow": {
     "slide_type": "slide"
    }
   },
   "source": [
    "# Reading the data:"
   ]
  },
  {
   "cell_type": "code",
   "execution_count": 3,
   "id": "94900f34",
   "metadata": {
    "scrolled": true,
    "slideshow": {
     "slide_type": "fragment"
    }
   },
   "outputs": [
    {
     "data": {
      "text/html": [
       "<div>\n",
       "<style scoped>\n",
       "    .dataframe tbody tr th:only-of-type {\n",
       "        vertical-align: middle;\n",
       "    }\n",
       "\n",
       "    .dataframe tbody tr th {\n",
       "        vertical-align: top;\n",
       "    }\n",
       "\n",
       "    .dataframe thead th {\n",
       "        text-align: right;\n",
       "    }\n",
       "</style>\n",
       "<table border=\"1\" class=\"dataframe\">\n",
       "  <thead>\n",
       "    <tr style=\"text-align: right;\">\n",
       "      <th></th>\n",
       "      <th>PassengerId</th>\n",
       "      <th>Survived</th>\n",
       "      <th>Pclass</th>\n",
       "      <th>Name</th>\n",
       "      <th>Sex</th>\n",
       "      <th>Age</th>\n",
       "      <th>SibSp</th>\n",
       "      <th>Parch</th>\n",
       "      <th>Ticket</th>\n",
       "      <th>Fare</th>\n",
       "      <th>Cabin</th>\n",
       "      <th>Embarked</th>\n",
       "    </tr>\n",
       "  </thead>\n",
       "  <tbody>\n",
       "    <tr>\n",
       "      <th>0</th>\n",
       "      <td>1</td>\n",
       "      <td>0</td>\n",
       "      <td>3</td>\n",
       "      <td>Braund, Mr. Owen Harris</td>\n",
       "      <td>male</td>\n",
       "      <td>22.0</td>\n",
       "      <td>1</td>\n",
       "      <td>0</td>\n",
       "      <td>A/5 21171</td>\n",
       "      <td>7.2500</td>\n",
       "      <td>NaN</td>\n",
       "      <td>S</td>\n",
       "    </tr>\n",
       "    <tr>\n",
       "      <th>1</th>\n",
       "      <td>2</td>\n",
       "      <td>1</td>\n",
       "      <td>1</td>\n",
       "      <td>Cumings, Mrs. John Bradley (Florence Briggs Th...</td>\n",
       "      <td>female</td>\n",
       "      <td>38.0</td>\n",
       "      <td>1</td>\n",
       "      <td>0</td>\n",
       "      <td>PC 17599</td>\n",
       "      <td>71.2833</td>\n",
       "      <td>C85</td>\n",
       "      <td>C</td>\n",
       "    </tr>\n",
       "    <tr>\n",
       "      <th>2</th>\n",
       "      <td>3</td>\n",
       "      <td>1</td>\n",
       "      <td>3</td>\n",
       "      <td>Heikkinen, Miss. Laina</td>\n",
       "      <td>female</td>\n",
       "      <td>26.0</td>\n",
       "      <td>0</td>\n",
       "      <td>0</td>\n",
       "      <td>STON/O2. 3101282</td>\n",
       "      <td>7.9250</td>\n",
       "      <td>NaN</td>\n",
       "      <td>S</td>\n",
       "    </tr>\n",
       "    <tr>\n",
       "      <th>3</th>\n",
       "      <td>4</td>\n",
       "      <td>1</td>\n",
       "      <td>1</td>\n",
       "      <td>Futrelle, Mrs. Jacques Heath (Lily May Peel)</td>\n",
       "      <td>female</td>\n",
       "      <td>35.0</td>\n",
       "      <td>1</td>\n",
       "      <td>0</td>\n",
       "      <td>113803</td>\n",
       "      <td>53.1000</td>\n",
       "      <td>C123</td>\n",
       "      <td>S</td>\n",
       "    </tr>\n",
       "    <tr>\n",
       "      <th>4</th>\n",
       "      <td>5</td>\n",
       "      <td>0</td>\n",
       "      <td>3</td>\n",
       "      <td>Allen, Mr. William Henry</td>\n",
       "      <td>male</td>\n",
       "      <td>35.0</td>\n",
       "      <td>0</td>\n",
       "      <td>0</td>\n",
       "      <td>373450</td>\n",
       "      <td>8.0500</td>\n",
       "      <td>NaN</td>\n",
       "      <td>S</td>\n",
       "    </tr>\n",
       "    <tr>\n",
       "      <th>...</th>\n",
       "      <td>...</td>\n",
       "      <td>...</td>\n",
       "      <td>...</td>\n",
       "      <td>...</td>\n",
       "      <td>...</td>\n",
       "      <td>...</td>\n",
       "      <td>...</td>\n",
       "      <td>...</td>\n",
       "      <td>...</td>\n",
       "      <td>...</td>\n",
       "      <td>...</td>\n",
       "      <td>...</td>\n",
       "    </tr>\n",
       "    <tr>\n",
       "      <th>886</th>\n",
       "      <td>887</td>\n",
       "      <td>0</td>\n",
       "      <td>2</td>\n",
       "      <td>Montvila, Rev. Juozas</td>\n",
       "      <td>male</td>\n",
       "      <td>27.0</td>\n",
       "      <td>0</td>\n",
       "      <td>0</td>\n",
       "      <td>211536</td>\n",
       "      <td>13.0000</td>\n",
       "      <td>NaN</td>\n",
       "      <td>S</td>\n",
       "    </tr>\n",
       "    <tr>\n",
       "      <th>887</th>\n",
       "      <td>888</td>\n",
       "      <td>1</td>\n",
       "      <td>1</td>\n",
       "      <td>Graham, Miss. Margaret Edith</td>\n",
       "      <td>female</td>\n",
       "      <td>19.0</td>\n",
       "      <td>0</td>\n",
       "      <td>0</td>\n",
       "      <td>112053</td>\n",
       "      <td>30.0000</td>\n",
       "      <td>B42</td>\n",
       "      <td>S</td>\n",
       "    </tr>\n",
       "    <tr>\n",
       "      <th>888</th>\n",
       "      <td>889</td>\n",
       "      <td>0</td>\n",
       "      <td>3</td>\n",
       "      <td>Johnston, Miss. Catherine Helen \"Carrie\"</td>\n",
       "      <td>female</td>\n",
       "      <td>NaN</td>\n",
       "      <td>1</td>\n",
       "      <td>2</td>\n",
       "      <td>W./C. 6607</td>\n",
       "      <td>23.4500</td>\n",
       "      <td>NaN</td>\n",
       "      <td>S</td>\n",
       "    </tr>\n",
       "    <tr>\n",
       "      <th>889</th>\n",
       "      <td>890</td>\n",
       "      <td>1</td>\n",
       "      <td>1</td>\n",
       "      <td>Behr, Mr. Karl Howell</td>\n",
       "      <td>male</td>\n",
       "      <td>26.0</td>\n",
       "      <td>0</td>\n",
       "      <td>0</td>\n",
       "      <td>111369</td>\n",
       "      <td>30.0000</td>\n",
       "      <td>C148</td>\n",
       "      <td>C</td>\n",
       "    </tr>\n",
       "    <tr>\n",
       "      <th>890</th>\n",
       "      <td>891</td>\n",
       "      <td>0</td>\n",
       "      <td>3</td>\n",
       "      <td>Dooley, Mr. Patrick</td>\n",
       "      <td>male</td>\n",
       "      <td>32.0</td>\n",
       "      <td>0</td>\n",
       "      <td>0</td>\n",
       "      <td>370376</td>\n",
       "      <td>7.7500</td>\n",
       "      <td>NaN</td>\n",
       "      <td>Q</td>\n",
       "    </tr>\n",
       "  </tbody>\n",
       "</table>\n",
       "<p>891 rows × 12 columns</p>\n",
       "</div>"
      ],
      "text/plain": [
       "     PassengerId  Survived  Pclass  \\\n",
       "0              1         0       3   \n",
       "1              2         1       1   \n",
       "2              3         1       3   \n",
       "3              4         1       1   \n",
       "4              5         0       3   \n",
       "..           ...       ...     ...   \n",
       "886          887         0       2   \n",
       "887          888         1       1   \n",
       "888          889         0       3   \n",
       "889          890         1       1   \n",
       "890          891         0       3   \n",
       "\n",
       "                                                  Name     Sex   Age  SibSp  \\\n",
       "0                              Braund, Mr. Owen Harris    male  22.0      1   \n",
       "1    Cumings, Mrs. John Bradley (Florence Briggs Th...  female  38.0      1   \n",
       "2                               Heikkinen, Miss. Laina  female  26.0      0   \n",
       "3         Futrelle, Mrs. Jacques Heath (Lily May Peel)  female  35.0      1   \n",
       "4                             Allen, Mr. William Henry    male  35.0      0   \n",
       "..                                                 ...     ...   ...    ...   \n",
       "886                              Montvila, Rev. Juozas    male  27.0      0   \n",
       "887                       Graham, Miss. Margaret Edith  female  19.0      0   \n",
       "888           Johnston, Miss. Catherine Helen \"Carrie\"  female   NaN      1   \n",
       "889                              Behr, Mr. Karl Howell    male  26.0      0   \n",
       "890                                Dooley, Mr. Patrick    male  32.0      0   \n",
       "\n",
       "     Parch            Ticket     Fare Cabin Embarked  \n",
       "0        0         A/5 21171   7.2500   NaN        S  \n",
       "1        0          PC 17599  71.2833   C85        C  \n",
       "2        0  STON/O2. 3101282   7.9250   NaN        S  \n",
       "3        0            113803  53.1000  C123        S  \n",
       "4        0            373450   8.0500   NaN        S  \n",
       "..     ...               ...      ...   ...      ...  \n",
       "886      0            211536  13.0000   NaN        S  \n",
       "887      0            112053  30.0000   B42        S  \n",
       "888      2        W./C. 6607  23.4500   NaN        S  \n",
       "889      0            111369  30.0000  C148        C  \n",
       "890      0            370376   7.7500   NaN        Q  \n",
       "\n",
       "[891 rows x 12 columns]"
      ]
     },
     "execution_count": 3,
     "metadata": {},
     "output_type": "execute_result"
    }
   ],
   "source": [
    "data = pd.read_csv(\"train.csv\")\n",
    "test = pd.read_csv(\"test.csv\")\n",
    "test_ids = test[\"PassengerId\"]\n",
    "\n",
    "data"
   ]
  },
  {
   "cell_type": "markdown",
   "id": "b382e75b",
   "metadata": {
    "slideshow": {
     "slide_type": "slide"
    }
   },
   "source": [
    "# Preprocessing the data:"
   ]
  },
  {
   "cell_type": "markdown",
   "id": "3203d730",
   "metadata": {
    "slideshow": {
     "slide_type": "subslide"
    }
   },
   "source": [
    "## Extracting titles from the name column:"
   ]
  },
  {
   "cell_type": "code",
   "execution_count": 4,
   "id": "67ec3629",
   "metadata": {
    "slideshow": {
     "slide_type": "fragment"
    }
   },
   "outputs": [],
   "source": [
    "def addTitle(data):\n",
    "    titles = []\n",
    "    \n",
    "    for i in range(len(data)):\n",
    "        title = re.findall(r',\\s*(.*?)\\.',data.Name[i])[0]\n",
    "        titles.append(title)\n",
    "    data['title'] = titles\n",
    "    frequency = data['title'].value_counts()\n",
    "    frequency.plot(kind='bar')\n",
    "    return data"
   ]
  },
  {
   "cell_type": "code",
   "execution_count": 5,
   "id": "a052fdad",
   "metadata": {
    "slideshow": {
     "slide_type": "subslide"
    }
   },
   "outputs": [
    {
     "name": "stdout",
     "output_type": "stream",
     "text": [
      "train\n"
     ]
    },
    {
     "data": {
      "image/png": "[encoded data removed]",
      "text/plain": [
       "<Figure size 432x288 with 1 Axes>"
      ]
     },
     "metadata": {
      "needs_background": "light"
     },
     "output_type": "display_data"
    }
   ],
   "source": [
    "print('train')\n",
    "data = addTitle(data)"
   ]
  },
  {
   "cell_type": "code",
   "execution_count": 6,
   "id": "f1f16ec3",
   "metadata": {},
   "outputs": [
    {
     "name": "stdout",
     "output_type": "stream",
     "text": [
      "test\n"
     ]
    },
    {
     "data": {
      "image/png": "[encoded data removed]",
      "text/plain": [
       "<Figure size 432x288 with 1 Axes>"
      ]
     },
     "metadata": {
      "needs_background": "light"
     },
     "output_type": "display_data"
    }
   ],
   "source": [
    "print('test')\n",
    "test = addTitle(test)"
   ]
  },
  {
   "cell_type": "markdown",
   "id": "28fc8c30",
   "metadata": {
    "slideshow": {
     "slide_type": "subslide"
    }
   },
   "source": [
    "## Counting NA values:"
   ]
  },
  {
   "cell_type": "code",
   "execution_count": 7,
   "id": "10a62ed6",
   "metadata": {
    "slideshow": {
     "slide_type": "fragment"
    }
   },
   "outputs": [
    {
     "name": "stdout",
     "output_type": "stream",
     "text": [
      "PassengerId:\t\t0/891\t0/418\n",
      "Pclass:\t\t0/891\t0/418\n",
      "Name:\t\t0/891\t0/418\n",
      "Sex:\t\t0/891\t0/418\n",
      "Age:\t\t177/891\t86/418\n",
      "SibSp:\t\t0/891\t0/418\n",
      "Parch:\t\t0/891\t0/418\n",
      "Ticket:\t\t0/891\t0/418\n",
      "Fare:\t\t0/891\t1/418\n",
      "Cabin:\t\t687/891\t327/418\n",
      "Embarked:\t\t2/891\t0/418\n",
      "title:\t\t0/891\t0/418\n"
     ]
    }
   ],
   "source": [
    "columns = test.columns\n",
    "len(data)\n",
    "for column in columns:\n",
    "    print(column + ':\\t\\t' + str(data[column].isna().sum()) + '/891\\t' + str(test[column].isna().sum()) + '/418')\n",
    "\n"
   ]
  },
  {
   "cell_type": "markdown",
   "id": "c045d892",
   "metadata": {
    "slideshow": {
     "slide_type": "slide"
    }
   },
   "source": [
    "# Cleaning the data:"
   ]
  },
  {
   "cell_type": "code",
   "execution_count": 8,
   "id": "3dde6f2c",
   "metadata": {
    "slideshow": {
     "slide_type": "fragment"
    }
   },
   "outputs": [],
   "source": [
    "def custom_label_encoder(labels, mappings):\n",
    "    encoded_labels = np.zeros(len(labels))\n",
    "    for label, code in mappings.items():\n",
    "        encoded_labels[labels == label] = code\n",
    "    return encoded_labels\n",
    "\n",
    "def changeTitle(title):\n",
    "    if str(title) == \"Mlle\" or str(title) == \"Mme\":\n",
    "        title = 'Miss'\n",
    "    elif str(title) == 'Dona' or str(title) == 'Lady' or str(title) == 'Ms' or str(title) == 'the Countess':\n",
    "        title = 'Mrs'\n",
    "    elif str(title) == 'Major' or str(title) == 'Col' or str(title) == 'Capt':\n",
    "        title = 'officer'\n",
    "    elif str(title) == 'Jonkheer':\n",
    "        title = 'Master'\n",
    "    elif title == 'Sir' or title == 'Don':\n",
    "        title = 'Mr'\n",
    "    return title"
   ]
  },
  {
   "cell_type": "code",
   "execution_count": 9,
   "id": "9cc218e9",
   "metadata": {
    "scrolled": true,
    "slideshow": {
     "slide_type": "subslide"
    }
   },
   "outputs": [
    {
     "name": "stderr",
     "output_type": "stream",
     "text": [
      "C:\\Users\\User\\AppData\\Local\\Temp\\ipykernel_14528\\246295639.py:24: SettingWithCopyWarning: \n",
      "A value is trying to be set on a copy of a slice from a DataFrame\n",
      "\n",
      "See the caveats in the documentation: https://pandas.pydata.org/pandas-docs/stable/user_guide/indexing.html#returning-a-view-versus-a-copy\n",
      "  data.title[i] = title\n",
      "C:\\Users\\User\\AppData\\Local\\Temp\\ipykernel_14528\\246295639.py:24: SettingWithCopyWarning: \n",
      "A value is trying to be set on a copy of a slice from a DataFrame\n",
      "\n",
      "See the caveats in the documentation: https://pandas.pydata.org/pandas-docs/stable/user_guide/indexing.html#returning-a-view-versus-a-copy\n",
      "  data.title[i] = title\n"
     ]
    }
   ],
   "source": [
    "def clean(data):\n",
    "    \n",
    "    #dropping uneeded columns:\n",
    "    data = data.drop([\"PassengerId\",\"Name\",\"Ticket\",\"Cabin\"], axis=1)\n",
    "    \n",
    "    #Encoding values of Sex column\n",
    "    encoder = LabelEncoder()\n",
    "    data['Sex'] = encoder.fit_transform(data['Sex'])\n",
    "    \n",
    "    #filling NA in column fare with median fare:\n",
    "    data[\"Fare\"].fillna(data[\"Fare\"].median(), inplace=True)\n",
    "    \n",
    "    #filling NA in column age, so that it would be similarly distributed to already existing data:\n",
    "    mean = data['Age'].mean()\n",
    "    std = data['Age'].std()\n",
    "    null_count = data['Age'].isnull().sum()\n",
    "    samples = np.random.normal(loc=mean, scale=std, size=null_count)\n",
    "    data.loc[data['Age'].isnull(), 'Age'] = samples\n",
    "    \n",
    "    #changing titles, to decrese dimensionality\n",
    "    for i in range(len(data)):\n",
    "        title = data.title[i]\n",
    "        title = changeTitle(title)\n",
    "        data.title[i] = title\n",
    "    \n",
    "    data = pd.concat([data, pd.get_dummies(data[\"title\"])], axis=1)\n",
    "    del data[\"title\"]\n",
    "    \n",
    "    #I map mananualy the ports based on their order\n",
    "    mappings = {'S':int('0'),'C':int('1'),'Q':int('2')}\n",
    "    data.Embarked.fillna(\"C\")\n",
    "    data[\"Embarked\"] = custom_label_encoder(data[\"Embarked\"], mappings)\n",
    "    \n",
    "    return data\n",
    "\n",
    "data = clean(data)\n",
    "test = clean(test)"
   ]
  },
  {
   "cell_type": "code",
   "execution_count": 10,
   "id": "d0cc886a",
   "metadata": {
    "slideshow": {
     "slide_type": "subslide"
    }
   },
   "outputs": [
    {
     "data": {
      "text/html": [
       "<div>\n",
       "<style scoped>\n",
       "    .dataframe tbody tr th:only-of-type {\n",
       "        vertical-align: middle;\n",
       "    }\n",
       "\n",
       "    .dataframe tbody tr th {\n",
       "        vertical-align: top;\n",
       "    }\n",
       "\n",
       "    .dataframe thead th {\n",
       "        text-align: right;\n",
       "    }\n",
       "</style>\n",
       "<table border=\"1\" class=\"dataframe\">\n",
       "  <thead>\n",
       "    <tr style=\"text-align: right;\">\n",
       "      <th></th>\n",
       "      <th>Survived</th>\n",
       "      <th>Pclass</th>\n",
       "      <th>Sex</th>\n",
       "      <th>Age</th>\n",
       "      <th>SibSp</th>\n",
       "      <th>Parch</th>\n",
       "      <th>Fare</th>\n",
       "      <th>Embarked</th>\n",
       "      <th>Dr</th>\n",
       "      <th>Master</th>\n",
       "      <th>Miss</th>\n",
       "      <th>Mr</th>\n",
       "      <th>Mrs</th>\n",
       "      <th>Rev</th>\n",
       "      <th>officer</th>\n",
       "    </tr>\n",
       "  </thead>\n",
       "  <tbody>\n",
       "    <tr>\n",
       "      <th>0</th>\n",
       "      <td>0</td>\n",
       "      <td>3</td>\n",
       "      <td>1</td>\n",
       "      <td>22.000000</td>\n",
       "      <td>1</td>\n",
       "      <td>0</td>\n",
       "      <td>7.2500</td>\n",
       "      <td>0.0</td>\n",
       "      <td>0</td>\n",
       "      <td>0</td>\n",
       "      <td>0</td>\n",
       "      <td>1</td>\n",
       "      <td>0</td>\n",
       "      <td>0</td>\n",
       "      <td>0</td>\n",
       "    </tr>\n",
       "    <tr>\n",
       "      <th>1</th>\n",
       "      <td>1</td>\n",
       "      <td>1</td>\n",
       "      <td>0</td>\n",
       "      <td>38.000000</td>\n",
       "      <td>1</td>\n",
       "      <td>0</td>\n",
       "      <td>71.2833</td>\n",
       "      <td>1.0</td>\n",
       "      <td>0</td>\n",
       "      <td>0</td>\n",
       "      <td>0</td>\n",
       "      <td>0</td>\n",
       "      <td>1</td>\n",
       "      <td>0</td>\n",
       "      <td>0</td>\n",
       "    </tr>\n",
       "    <tr>\n",
       "      <th>2</th>\n",
       "      <td>1</td>\n",
       "      <td>3</td>\n",
       "      <td>0</td>\n",
       "      <td>26.000000</td>\n",
       "      <td>0</td>\n",
       "      <td>0</td>\n",
       "      <td>7.9250</td>\n",
       "      <td>0.0</td>\n",
       "      <td>0</td>\n",
       "      <td>0</td>\n",
       "      <td>1</td>\n",
       "      <td>0</td>\n",
       "      <td>0</td>\n",
       "      <td>0</td>\n",
       "      <td>0</td>\n",
       "    </tr>\n",
       "    <tr>\n",
       "      <th>3</th>\n",
       "      <td>1</td>\n",
       "      <td>1</td>\n",
       "      <td>0</td>\n",
       "      <td>35.000000</td>\n",
       "      <td>1</td>\n",
       "      <td>0</td>\n",
       "      <td>53.1000</td>\n",
       "      <td>0.0</td>\n",
       "      <td>0</td>\n",
       "      <td>0</td>\n",
       "      <td>0</td>\n",
       "      <td>0</td>\n",
       "      <td>1</td>\n",
       "      <td>0</td>\n",
       "      <td>0</td>\n",
       "    </tr>\n",
       "    <tr>\n",
       "      <th>4</th>\n",
       "      <td>0</td>\n",
       "      <td>3</td>\n",
       "      <td>1</td>\n",
       "      <td>35.000000</td>\n",
       "      <td>0</td>\n",
       "      <td>0</td>\n",
       "      <td>8.0500</td>\n",
       "      <td>0.0</td>\n",
       "      <td>0</td>\n",
       "      <td>0</td>\n",
       "      <td>0</td>\n",
       "      <td>1</td>\n",
       "      <td>0</td>\n",
       "      <td>0</td>\n",
       "      <td>0</td>\n",
       "    </tr>\n",
       "    <tr>\n",
       "      <th>5</th>\n",
       "      <td>0</td>\n",
       "      <td>3</td>\n",
       "      <td>1</td>\n",
       "      <td>51.039405</td>\n",
       "      <td>0</td>\n",
       "      <td>0</td>\n",
       "      <td>8.4583</td>\n",
       "      <td>2.0</td>\n",
       "      <td>0</td>\n",
       "      <td>0</td>\n",
       "      <td>0</td>\n",
       "      <td>1</td>\n",
       "      <td>0</td>\n",
       "      <td>0</td>\n",
       "      <td>0</td>\n",
       "    </tr>\n",
       "    <tr>\n",
       "      <th>6</th>\n",
       "      <td>0</td>\n",
       "      <td>1</td>\n",
       "      <td>1</td>\n",
       "      <td>54.000000</td>\n",
       "      <td>0</td>\n",
       "      <td>0</td>\n",
       "      <td>51.8625</td>\n",
       "      <td>0.0</td>\n",
       "      <td>0</td>\n",
       "      <td>0</td>\n",
       "      <td>0</td>\n",
       "      <td>1</td>\n",
       "      <td>0</td>\n",
       "      <td>0</td>\n",
       "      <td>0</td>\n",
       "    </tr>\n",
       "    <tr>\n",
       "      <th>7</th>\n",
       "      <td>0</td>\n",
       "      <td>3</td>\n",
       "      <td>1</td>\n",
       "      <td>2.000000</td>\n",
       "      <td>3</td>\n",
       "      <td>1</td>\n",
       "      <td>21.0750</td>\n",
       "      <td>0.0</td>\n",
       "      <td>0</td>\n",
       "      <td>1</td>\n",
       "      <td>0</td>\n",
       "      <td>0</td>\n",
       "      <td>0</td>\n",
       "      <td>0</td>\n",
       "      <td>0</td>\n",
       "    </tr>\n",
       "    <tr>\n",
       "      <th>8</th>\n",
       "      <td>1</td>\n",
       "      <td>3</td>\n",
       "      <td>0</td>\n",
       "      <td>27.000000</td>\n",
       "      <td>0</td>\n",
       "      <td>2</td>\n",
       "      <td>11.1333</td>\n",
       "      <td>0.0</td>\n",
       "      <td>0</td>\n",
       "      <td>0</td>\n",
       "      <td>0</td>\n",
       "      <td>0</td>\n",
       "      <td>1</td>\n",
       "      <td>0</td>\n",
       "      <td>0</td>\n",
       "    </tr>\n",
       "    <tr>\n",
       "      <th>9</th>\n",
       "      <td>1</td>\n",
       "      <td>2</td>\n",
       "      <td>0</td>\n",
       "      <td>14.000000</td>\n",
       "      <td>1</td>\n",
       "      <td>0</td>\n",
       "      <td>30.0708</td>\n",
       "      <td>1.0</td>\n",
       "      <td>0</td>\n",
       "      <td>0</td>\n",
       "      <td>0</td>\n",
       "      <td>0</td>\n",
       "      <td>1</td>\n",
       "      <td>0</td>\n",
       "      <td>0</td>\n",
       "    </tr>\n",
       "  </tbody>\n",
       "</table>\n",
       "</div>"
      ],
      "text/plain": [
       "   Survived  Pclass  Sex        Age  SibSp  Parch     Fare  Embarked  Dr  \\\n",
       "0         0       3    1  22.000000      1      0   7.2500       0.0   0   \n",
       "1         1       1    0  38.000000      1      0  71.2833       1.0   0   \n",
       "2         1       3    0  26.000000      0      0   7.9250       0.0   0   \n",
       "3         1       1    0  35.000000      1      0  53.1000       0.0   0   \n",
       "4         0       3    1  35.000000      0      0   8.0500       0.0   0   \n",
       "5         0       3    1  51.039405      0      0   8.4583       2.0   0   \n",
       "6         0       1    1  54.000000      0      0  51.8625       0.0   0   \n",
       "7         0       3    1   2.000000      3      1  21.0750       0.0   0   \n",
       "8         1       3    0  27.000000      0      2  11.1333       0.0   0   \n",
       "9         1       2    0  14.000000      1      0  30.0708       1.0   0   \n",
       "\n",
       "   Master  Miss  Mr  Mrs  Rev  officer  \n",
       "0       0     0   1    0    0        0  \n",
       "1       0     0   0    1    0        0  \n",
       "2       0     1   0    0    0        0  \n",
       "3       0     0   0    1    0        0  \n",
       "4       0     0   1    0    0        0  \n",
       "5       0     0   1    0    0        0  \n",
       "6       0     0   1    0    0        0  \n",
       "7       1     0   0    0    0        0  \n",
       "8       0     0   0    1    0        0  \n",
       "9       0     0   0    1    0        0  "
      ]
     },
     "execution_count": 10,
     "metadata": {},
     "output_type": "execute_result"
    }
   ],
   "source": [
    "data.head(10)"
   ]
  },
  {
   "cell_type": "markdown",
   "id": "dac7c498",
   "metadata": {
    "slideshow": {
     "slide_type": "slide"
    }
   },
   "source": [
    "# Scaling the data:"
   ]
  },
  {
   "cell_type": "code",
   "execution_count": 11,
   "id": "4dc3c56a",
   "metadata": {
    "slideshow": {
     "slide_type": "fragment"
    }
   },
   "outputs": [],
   "source": [
    "scaledData = pd.DataFrame(scaler.fit_transform(data), columns=data.columns)\n",
    "scaledTest = pd.DataFrame(scaler.fit_transform(test), columns=test.columns)\n"
   ]
  },
  {
   "cell_type": "code",
   "execution_count": 12,
   "id": "d10b5941",
   "metadata": {
    "slideshow": {
     "slide_type": "fragment"
    }
   },
   "outputs": [
    {
     "data": {
      "text/html": [
       "<div>\n",
       "<style scoped>\n",
       "    .dataframe tbody tr th:only-of-type {\n",
       "        vertical-align: middle;\n",
       "    }\n",
       "\n",
       "    .dataframe tbody tr th {\n",
       "        vertical-align: top;\n",
       "    }\n",
       "\n",
       "    .dataframe thead th {\n",
       "        text-align: right;\n",
       "    }\n",
       "</style>\n",
       "<table border=\"1\" class=\"dataframe\">\n",
       "  <thead>\n",
       "    <tr style=\"text-align: right;\">\n",
       "      <th></th>\n",
       "      <th>Survived</th>\n",
       "      <th>Pclass</th>\n",
       "      <th>Sex</th>\n",
       "      <th>Age</th>\n",
       "      <th>SibSp</th>\n",
       "      <th>Parch</th>\n",
       "      <th>Fare</th>\n",
       "      <th>Embarked</th>\n",
       "      <th>Dr</th>\n",
       "      <th>Master</th>\n",
       "      <th>Miss</th>\n",
       "      <th>Mr</th>\n",
       "      <th>Mrs</th>\n",
       "      <th>Rev</th>\n",
       "      <th>officer</th>\n",
       "    </tr>\n",
       "  </thead>\n",
       "  <tbody>\n",
       "    <tr>\n",
       "      <th>0</th>\n",
       "      <td>0.0</td>\n",
       "      <td>1.0</td>\n",
       "      <td>1.0</td>\n",
       "      <td>0.416020</td>\n",
       "      <td>0.125</td>\n",
       "      <td>0.000000</td>\n",
       "      <td>0.014151</td>\n",
       "      <td>0.0</td>\n",
       "      <td>0.0</td>\n",
       "      <td>0.0</td>\n",
       "      <td>0.0</td>\n",
       "      <td>1.0</td>\n",
       "      <td>0.0</td>\n",
       "      <td>0.0</td>\n",
       "      <td>0.0</td>\n",
       "    </tr>\n",
       "    <tr>\n",
       "      <th>1</th>\n",
       "      <td>1.0</td>\n",
       "      <td>0.0</td>\n",
       "      <td>0.0</td>\n",
       "      <td>0.577118</td>\n",
       "      <td>0.125</td>\n",
       "      <td>0.000000</td>\n",
       "      <td>0.139136</td>\n",
       "      <td>0.5</td>\n",
       "      <td>0.0</td>\n",
       "      <td>0.0</td>\n",
       "      <td>0.0</td>\n",
       "      <td>0.0</td>\n",
       "      <td>1.0</td>\n",
       "      <td>0.0</td>\n",
       "      <td>0.0</td>\n",
       "    </tr>\n",
       "    <tr>\n",
       "      <th>2</th>\n",
       "      <td>1.0</td>\n",
       "      <td>1.0</td>\n",
       "      <td>0.0</td>\n",
       "      <td>0.456294</td>\n",
       "      <td>0.000</td>\n",
       "      <td>0.000000</td>\n",
       "      <td>0.015469</td>\n",
       "      <td>0.0</td>\n",
       "      <td>0.0</td>\n",
       "      <td>0.0</td>\n",
       "      <td>1.0</td>\n",
       "      <td>0.0</td>\n",
       "      <td>0.0</td>\n",
       "      <td>0.0</td>\n",
       "      <td>0.0</td>\n",
       "    </tr>\n",
       "    <tr>\n",
       "      <th>3</th>\n",
       "      <td>1.0</td>\n",
       "      <td>0.0</td>\n",
       "      <td>0.0</td>\n",
       "      <td>0.546912</td>\n",
       "      <td>0.125</td>\n",
       "      <td>0.000000</td>\n",
       "      <td>0.103644</td>\n",
       "      <td>0.0</td>\n",
       "      <td>0.0</td>\n",
       "      <td>0.0</td>\n",
       "      <td>0.0</td>\n",
       "      <td>0.0</td>\n",
       "      <td>1.0</td>\n",
       "      <td>0.0</td>\n",
       "      <td>0.0</td>\n",
       "    </tr>\n",
       "    <tr>\n",
       "      <th>4</th>\n",
       "      <td>0.0</td>\n",
       "      <td>1.0</td>\n",
       "      <td>1.0</td>\n",
       "      <td>0.546912</td>\n",
       "      <td>0.000</td>\n",
       "      <td>0.000000</td>\n",
       "      <td>0.015713</td>\n",
       "      <td>0.0</td>\n",
       "      <td>0.0</td>\n",
       "      <td>0.0</td>\n",
       "      <td>0.0</td>\n",
       "      <td>1.0</td>\n",
       "      <td>0.0</td>\n",
       "      <td>0.0</td>\n",
       "      <td>0.0</td>\n",
       "    </tr>\n",
       "    <tr>\n",
       "      <th>...</th>\n",
       "      <td>...</td>\n",
       "      <td>...</td>\n",
       "      <td>...</td>\n",
       "      <td>...</td>\n",
       "      <td>...</td>\n",
       "      <td>...</td>\n",
       "      <td>...</td>\n",
       "      <td>...</td>\n",
       "      <td>...</td>\n",
       "      <td>...</td>\n",
       "      <td>...</td>\n",
       "      <td>...</td>\n",
       "      <td>...</td>\n",
       "      <td>...</td>\n",
       "      <td>...</td>\n",
       "    </tr>\n",
       "    <tr>\n",
       "      <th>886</th>\n",
       "      <td>0.0</td>\n",
       "      <td>0.5</td>\n",
       "      <td>1.0</td>\n",
       "      <td>0.466363</td>\n",
       "      <td>0.000</td>\n",
       "      <td>0.000000</td>\n",
       "      <td>0.025374</td>\n",
       "      <td>0.0</td>\n",
       "      <td>0.0</td>\n",
       "      <td>0.0</td>\n",
       "      <td>0.0</td>\n",
       "      <td>0.0</td>\n",
       "      <td>0.0</td>\n",
       "      <td>1.0</td>\n",
       "      <td>0.0</td>\n",
       "    </tr>\n",
       "    <tr>\n",
       "      <th>887</th>\n",
       "      <td>1.0</td>\n",
       "      <td>0.0</td>\n",
       "      <td>0.0</td>\n",
       "      <td>0.385814</td>\n",
       "      <td>0.000</td>\n",
       "      <td>0.000000</td>\n",
       "      <td>0.058556</td>\n",
       "      <td>0.0</td>\n",
       "      <td>0.0</td>\n",
       "      <td>0.0</td>\n",
       "      <td>1.0</td>\n",
       "      <td>0.0</td>\n",
       "      <td>0.0</td>\n",
       "      <td>0.0</td>\n",
       "      <td>0.0</td>\n",
       "    </tr>\n",
       "    <tr>\n",
       "      <th>888</th>\n",
       "      <td>0.0</td>\n",
       "      <td>1.0</td>\n",
       "      <td>0.0</td>\n",
       "      <td>0.411650</td>\n",
       "      <td>0.125</td>\n",
       "      <td>0.333333</td>\n",
       "      <td>0.045771</td>\n",
       "      <td>0.0</td>\n",
       "      <td>0.0</td>\n",
       "      <td>0.0</td>\n",
       "      <td>1.0</td>\n",
       "      <td>0.0</td>\n",
       "      <td>0.0</td>\n",
       "      <td>0.0</td>\n",
       "      <td>0.0</td>\n",
       "    </tr>\n",
       "    <tr>\n",
       "      <th>889</th>\n",
       "      <td>1.0</td>\n",
       "      <td>0.0</td>\n",
       "      <td>1.0</td>\n",
       "      <td>0.456294</td>\n",
       "      <td>0.000</td>\n",
       "      <td>0.000000</td>\n",
       "      <td>0.058556</td>\n",
       "      <td>0.5</td>\n",
       "      <td>0.0</td>\n",
       "      <td>0.0</td>\n",
       "      <td>0.0</td>\n",
       "      <td>1.0</td>\n",
       "      <td>0.0</td>\n",
       "      <td>0.0</td>\n",
       "      <td>0.0</td>\n",
       "    </tr>\n",
       "    <tr>\n",
       "      <th>890</th>\n",
       "      <td>0.0</td>\n",
       "      <td>1.0</td>\n",
       "      <td>1.0</td>\n",
       "      <td>0.516706</td>\n",
       "      <td>0.000</td>\n",
       "      <td>0.000000</td>\n",
       "      <td>0.015127</td>\n",
       "      <td>1.0</td>\n",
       "      <td>0.0</td>\n",
       "      <td>0.0</td>\n",
       "      <td>0.0</td>\n",
       "      <td>1.0</td>\n",
       "      <td>0.0</td>\n",
       "      <td>0.0</td>\n",
       "      <td>0.0</td>\n",
       "    </tr>\n",
       "  </tbody>\n",
       "</table>\n",
       "<p>891 rows × 15 columns</p>\n",
       "</div>"
      ],
      "text/plain": [
       "     Survived  Pclass  Sex       Age  SibSp     Parch      Fare  Embarked  \\\n",
       "0         0.0     1.0  1.0  0.416020  0.125  0.000000  0.014151       0.0   \n",
       "1         1.0     0.0  0.0  0.577118  0.125  0.000000  0.139136       0.5   \n",
       "2         1.0     1.0  0.0  0.456294  0.000  0.000000  0.015469       0.0   \n",
       "3         1.0     0.0  0.0  0.546912  0.125  0.000000  0.103644       0.0   \n",
       "4         0.0     1.0  1.0  0.546912  0.000  0.000000  0.015713       0.0   \n",
       "..        ...     ...  ...       ...    ...       ...       ...       ...   \n",
       "886       0.0     0.5  1.0  0.466363  0.000  0.000000  0.025374       0.0   \n",
       "887       1.0     0.0  0.0  0.385814  0.000  0.000000  0.058556       0.0   \n",
       "888       0.0     1.0  0.0  0.411650  0.125  0.333333  0.045771       0.0   \n",
       "889       1.0     0.0  1.0  0.456294  0.000  0.000000  0.058556       0.5   \n",
       "890       0.0     1.0  1.0  0.516706  0.000  0.000000  0.015127       1.0   \n",
       "\n",
       "      Dr  Master  Miss   Mr  Mrs  Rev  officer  \n",
       "0    0.0     0.0   0.0  1.0  0.0  0.0      0.0  \n",
       "1    0.0     0.0   0.0  0.0  1.0  0.0      0.0  \n",
       "2    0.0     0.0   1.0  0.0  0.0  0.0      0.0  \n",
       "3    0.0     0.0   0.0  0.0  1.0  0.0      0.0  \n",
       "4    0.0     0.0   0.0  1.0  0.0  0.0      0.0  \n",
       "..   ...     ...   ...  ...  ...  ...      ...  \n",
       "886  0.0     0.0   0.0  0.0  0.0  1.0      0.0  \n",
       "887  0.0     0.0   1.0  0.0  0.0  0.0      0.0  \n",
       "888  0.0     0.0   1.0  0.0  0.0  0.0      0.0  \n",
       "889  0.0     0.0   0.0  1.0  0.0  0.0      0.0  \n",
       "890  0.0     0.0   0.0  1.0  0.0  0.0      0.0  \n",
       "\n",
       "[891 rows x 15 columns]"
      ]
     },
     "execution_count": 12,
     "metadata": {},
     "output_type": "execute_result"
    }
   ],
   "source": [
    "scaledData"
   ]
  },
  {
   "cell_type": "markdown",
   "id": "50d93ff1",
   "metadata": {
    "slideshow": {
     "slide_type": "slide"
    }
   },
   "source": [
    "# Data analysis:"
   ]
  },
  {
   "cell_type": "markdown",
   "id": "c925bcc5",
   "metadata": {
    "slideshow": {
     "slide_type": "subslide"
    }
   },
   "source": [
    "## Correlations:"
   ]
  },
  {
   "cell_type": "code",
   "execution_count": 13,
   "id": "21d2dd98",
   "metadata": {
    "collapsed": true,
    "slideshow": {
     "slide_type": "fragment"
    }
   },
   "outputs": [
    {
     "data": {
      "text/html": [
       "<div>\n",
       "<style scoped>\n",
       "    .dataframe tbody tr th:only-of-type {\n",
       "        vertical-align: middle;\n",
       "    }\n",
       "\n",
       "    .dataframe tbody tr th {\n",
       "        vertical-align: top;\n",
       "    }\n",
       "\n",
       "    .dataframe thead th {\n",
       "        text-align: right;\n",
       "    }\n",
       "</style>\n",
       "<table border=\"1\" class=\"dataframe\">\n",
       "  <thead>\n",
       "    <tr style=\"text-align: right;\">\n",
       "      <th></th>\n",
       "      <th>Survived</th>\n",
       "      <th>Pclass</th>\n",
       "      <th>Sex</th>\n",
       "      <th>Age</th>\n",
       "      <th>SibSp</th>\n",
       "      <th>Parch</th>\n",
       "      <th>Fare</th>\n",
       "      <th>Embarked</th>\n",
       "      <th>Dr</th>\n",
       "      <th>Master</th>\n",
       "      <th>Miss</th>\n",
       "      <th>Mr</th>\n",
       "      <th>Mrs</th>\n",
       "      <th>Rev</th>\n",
       "      <th>officer</th>\n",
       "    </tr>\n",
       "  </thead>\n",
       "  <tbody>\n",
       "    <tr>\n",
       "      <th>Survived</th>\n",
       "      <td>1.000000</td>\n",
       "      <td>-0.339668</td>\n",
       "      <td>-0.543351</td>\n",
       "      <td>-0.009728</td>\n",
       "      <td>0.088879</td>\n",
       "      <td>0.138266</td>\n",
       "      <td>0.323736</td>\n",
       "      <td>0.135861</td>\n",
       "      <td>0.008185</td>\n",
       "      <td>0.079996</td>\n",
       "      <td>0.335636</td>\n",
       "      <td>-0.548524</td>\n",
       "      <td>0.347864</td>\n",
       "      <td>-0.064988</td>\n",
       "      <td>0.002496</td>\n",
       "    </tr>\n",
       "    <tr>\n",
       "      <th>Pclass</th>\n",
       "      <td>-0.339668</td>\n",
       "      <td>1.000000</td>\n",
       "      <td>0.135775</td>\n",
       "      <td>-0.264682</td>\n",
       "      <td>-0.043019</td>\n",
       "      <td>-0.022801</td>\n",
       "      <td>-0.688032</td>\n",
       "      <td>-0.004962</td>\n",
       "      <td>-0.107798</td>\n",
       "      <td>0.069727</td>\n",
       "      <td>-0.009714</td>\n",
       "      <td>0.142590</td>\n",
       "      <td>-0.169028</td>\n",
       "      <td>-0.048920</td>\n",
       "      <td>-0.109552</td>\n",
       "    </tr>\n",
       "    <tr>\n",
       "      <th>Sex</th>\n",
       "      <td>-0.543351</td>\n",
       "      <td>0.135775</td>\n",
       "      <td>1.000000</td>\n",
       "      <td>0.046239</td>\n",
       "      <td>-0.195204</td>\n",
       "      <td>-0.254512</td>\n",
       "      <td>-0.259593</td>\n",
       "      <td>-0.120400</td>\n",
       "      <td>0.039034</td>\n",
       "      <td>0.162017</td>\n",
       "      <td>-0.693916</td>\n",
       "      <td>0.871343</td>\n",
       "      <td>-0.555221</td>\n",
       "      <td>0.060741</td>\n",
       "      <td>0.055417</td>\n",
       "    </tr>\n",
       "    <tr>\n",
       "      <th>Age</th>\n",
       "      <td>-0.009728</td>\n",
       "      <td>-0.264682</td>\n",
       "      <td>0.046239</td>\n",
       "      <td>1.000000</td>\n",
       "      <td>-0.151948</td>\n",
       "      <td>-0.216697</td>\n",
       "      <td>0.093642</td>\n",
       "      <td>0.035162</td>\n",
       "      <td>0.075581</td>\n",
       "      <td>-0.290468</td>\n",
       "      <td>-0.203188</td>\n",
       "      <td>0.128311</td>\n",
       "      <td>0.167647</td>\n",
       "      <td>0.073560</td>\n",
       "      <td>0.113895</td>\n",
       "    </tr>\n",
       "    <tr>\n",
       "      <th>SibSp</th>\n",
       "      <td>0.088879</td>\n",
       "      <td>-0.043019</td>\n",
       "      <td>-0.195204</td>\n",
       "      <td>-0.151948</td>\n",
       "      <td>1.000000</td>\n",
       "      <td>0.450014</td>\n",
       "      <td>0.447113</td>\n",
       "      <td>-0.024673</td>\n",
       "      <td>0.003836</td>\n",
       "      <td>0.280659</td>\n",
       "      <td>0.026464</td>\n",
       "      <td>-0.302558</td>\n",
       "      <td>0.237422</td>\n",
       "      <td>-0.028728</td>\n",
       "      <td>-0.021349</td>\n",
       "    </tr>\n",
       "    <tr>\n",
       "      <th>Parch</th>\n",
       "      <td>0.138266</td>\n",
       "      <td>-0.022801</td>\n",
       "      <td>-0.254512</td>\n",
       "      <td>-0.216697</td>\n",
       "      <td>0.450014</td>\n",
       "      <td>1.000000</td>\n",
       "      <td>0.410074</td>\n",
       "      <td>-0.055119</td>\n",
       "      <td>-0.049399</td>\n",
       "      <td>0.355708</td>\n",
       "      <td>0.134617</td>\n",
       "      <td>-0.385642</td>\n",
       "      <td>0.192753</td>\n",
       "      <td>-0.017239</td>\n",
       "      <td>-0.010533</td>\n",
       "    </tr>\n",
       "    <tr>\n",
       "      <th>Fare</th>\n",
       "      <td>0.323736</td>\n",
       "      <td>-0.688032</td>\n",
       "      <td>-0.259593</td>\n",
       "      <td>0.093642</td>\n",
       "      <td>0.447113</td>\n",
       "      <td>0.410074</td>\n",
       "      <td>1.000000</td>\n",
       "      <td>-0.010172</td>\n",
       "      <td>0.063698</td>\n",
       "      <td>0.125935</td>\n",
       "      <td>0.085410</td>\n",
       "      <td>-0.326935</td>\n",
       "      <td>0.253327</td>\n",
       "      <td>0.008859</td>\n",
       "      <td>0.066899</td>\n",
       "    </tr>\n",
       "    <tr>\n",
       "      <th>Embarked</th>\n",
       "      <td>0.135861</td>\n",
       "      <td>-0.004962</td>\n",
       "      <td>-0.120400</td>\n",
       "      <td>0.035162</td>\n",
       "      <td>-0.024673</td>\n",
       "      <td>-0.055119</td>\n",
       "      <td>-0.010172</td>\n",
       "      <td>1.000000</td>\n",
       "      <td>0.030716</td>\n",
       "      <td>-0.023156</td>\n",
       "      <td>0.158175</td>\n",
       "      <td>-0.109030</td>\n",
       "      <td>-0.016983</td>\n",
       "      <td>-0.014021</td>\n",
       "      <td>-0.015350</td>\n",
       "    </tr>\n",
       "    <tr>\n",
       "      <th>Dr</th>\n",
       "      <td>0.008185</td>\n",
       "      <td>-0.107798</td>\n",
       "      <td>0.039034</td>\n",
       "      <td>0.075581</td>\n",
       "      <td>0.003836</td>\n",
       "      <td>-0.049399</td>\n",
       "      <td>0.063698</td>\n",
       "      <td>0.030716</td>\n",
       "      <td>1.000000</td>\n",
       "      <td>-0.019544</td>\n",
       "      <td>-0.045552</td>\n",
       "      <td>-0.105108</td>\n",
       "      <td>-0.036447</td>\n",
       "      <td>-0.007327</td>\n",
       "      <td>-0.006685</td>\n",
       "    </tr>\n",
       "    <tr>\n",
       "      <th>Master</th>\n",
       "      <td>0.079996</td>\n",
       "      <td>0.069727</td>\n",
       "      <td>0.162017</td>\n",
       "      <td>-0.290468</td>\n",
       "      <td>0.280659</td>\n",
       "      <td>0.355708</td>\n",
       "      <td>0.125935</td>\n",
       "      <td>-0.023156</td>\n",
       "      <td>-0.019544</td>\n",
       "      <td>1.000000</td>\n",
       "      <td>-0.112426</td>\n",
       "      <td>-0.259415</td>\n",
       "      <td>-0.089955</td>\n",
       "      <td>-0.018084</td>\n",
       "      <td>-0.016499</td>\n",
       "    </tr>\n",
       "    <tr>\n",
       "      <th>Miss</th>\n",
       "      <td>0.335636</td>\n",
       "      <td>-0.009714</td>\n",
       "      <td>-0.693916</td>\n",
       "      <td>-0.203188</td>\n",
       "      <td>0.026464</td>\n",
       "      <td>0.134617</td>\n",
       "      <td>0.085410</td>\n",
       "      <td>0.158175</td>\n",
       "      <td>-0.045552</td>\n",
       "      <td>-0.112426</td>\n",
       "      <td>1.000000</td>\n",
       "      <td>-0.604638</td>\n",
       "      <td>-0.209665</td>\n",
       "      <td>-0.042149</td>\n",
       "      <td>-0.038455</td>\n",
       "    </tr>\n",
       "    <tr>\n",
       "      <th>Mr</th>\n",
       "      <td>-0.548524</td>\n",
       "      <td>0.142590</td>\n",
       "      <td>0.871343</td>\n",
       "      <td>0.128311</td>\n",
       "      <td>-0.302558</td>\n",
       "      <td>-0.385642</td>\n",
       "      <td>-0.326935</td>\n",
       "      <td>-0.109030</td>\n",
       "      <td>-0.105108</td>\n",
       "      <td>-0.259415</td>\n",
       "      <td>-0.604638</td>\n",
       "      <td>1.000000</td>\n",
       "      <td>-0.483788</td>\n",
       "      <td>-0.097256</td>\n",
       "      <td>-0.088732</td>\n",
       "    </tr>\n",
       "    <tr>\n",
       "      <th>Mrs</th>\n",
       "      <td>0.347864</td>\n",
       "      <td>-0.169028</td>\n",
       "      <td>-0.555221</td>\n",
       "      <td>0.167647</td>\n",
       "      <td>0.237422</td>\n",
       "      <td>0.192753</td>\n",
       "      <td>0.253327</td>\n",
       "      <td>-0.016983</td>\n",
       "      <td>-0.036447</td>\n",
       "      <td>-0.089955</td>\n",
       "      <td>-0.209665</td>\n",
       "      <td>-0.483788</td>\n",
       "      <td>1.000000</td>\n",
       "      <td>-0.033725</td>\n",
       "      <td>-0.030769</td>\n",
       "    </tr>\n",
       "    <tr>\n",
       "      <th>Rev</th>\n",
       "      <td>-0.064988</td>\n",
       "      <td>-0.048920</td>\n",
       "      <td>0.060741</td>\n",
       "      <td>0.073560</td>\n",
       "      <td>-0.028728</td>\n",
       "      <td>-0.017239</td>\n",
       "      <td>0.008859</td>\n",
       "      <td>-0.014021</td>\n",
       "      <td>-0.007327</td>\n",
       "      <td>-0.018084</td>\n",
       "      <td>-0.042149</td>\n",
       "      <td>-0.097256</td>\n",
       "      <td>-0.033725</td>\n",
       "      <td>1.000000</td>\n",
       "      <td>-0.006185</td>\n",
       "    </tr>\n",
       "    <tr>\n",
       "      <th>officer</th>\n",
       "      <td>0.002496</td>\n",
       "      <td>-0.109552</td>\n",
       "      <td>0.055417</td>\n",
       "      <td>0.113895</td>\n",
       "      <td>-0.021349</td>\n",
       "      <td>-0.010533</td>\n",
       "      <td>0.066899</td>\n",
       "      <td>-0.015350</td>\n",
       "      <td>-0.006685</td>\n",
       "      <td>-0.016499</td>\n",
       "      <td>-0.038455</td>\n",
       "      <td>-0.088732</td>\n",
       "      <td>-0.030769</td>\n",
       "      <td>-0.006185</td>\n",
       "      <td>1.000000</td>\n",
       "    </tr>\n",
       "  </tbody>\n",
       "</table>\n",
       "</div>"
      ],
      "text/plain": [
       "          Survived    Pclass       Sex       Age     SibSp     Parch  \\\n",
       "Survived  1.000000 -0.339668 -0.543351 -0.009728  0.088879  0.138266   \n",
       "Pclass   -0.339668  1.000000  0.135775 -0.264682 -0.043019 -0.022801   \n",
       "Sex      -0.543351  0.135775  1.000000  0.046239 -0.195204 -0.254512   \n",
       "Age      -0.009728 -0.264682  0.046239  1.000000 -0.151948 -0.216697   \n",
       "SibSp     0.088879 -0.043019 -0.195204 -0.151948  1.000000  0.450014   \n",
       "Parch     0.138266 -0.022801 -0.254512 -0.216697  0.450014  1.000000   \n",
       "Fare      0.323736 -0.688032 -0.259593  0.093642  0.447113  0.410074   \n",
       "Embarked  0.135861 -0.004962 -0.120400  0.035162 -0.024673 -0.055119   \n",
       "Dr        0.008185 -0.107798  0.039034  0.075581  0.003836 -0.049399   \n",
       "Master    0.079996  0.069727  0.162017 -0.290468  0.280659  0.355708   \n",
       "Miss      0.335636 -0.009714 -0.693916 -0.203188  0.026464  0.134617   \n",
       "Mr       -0.548524  0.142590  0.871343  0.128311 -0.302558 -0.385642   \n",
       "Mrs       0.347864 -0.169028 -0.555221  0.167647  0.237422  0.192753   \n",
       "Rev      -0.064988 -0.048920  0.060741  0.073560 -0.028728 -0.017239   \n",
       "officer   0.002496 -0.109552  0.055417  0.113895 -0.021349 -0.010533   \n",
       "\n",
       "              Fare  Embarked        Dr    Master      Miss        Mr  \\\n",
       "Survived  0.323736  0.135861  0.008185  0.079996  0.335636 -0.548524   \n",
       "Pclass   -0.688032 -0.004962 -0.107798  0.069727 -0.009714  0.142590   \n",
       "Sex      -0.259593 -0.120400  0.039034  0.162017 -0.693916  0.871343   \n",
       "Age       0.093642  0.035162  0.075581 -0.290468 -0.203188  0.128311   \n",
       "SibSp     0.447113 -0.024673  0.003836  0.280659  0.026464 -0.302558   \n",
       "Parch     0.410074 -0.055119 -0.049399  0.355708  0.134617 -0.385642   \n",
       "Fare      1.000000 -0.010172  0.063698  0.125935  0.085410 -0.326935   \n",
       "Embarked -0.010172  1.000000  0.030716 -0.023156  0.158175 -0.109030   \n",
       "Dr        0.063698  0.030716  1.000000 -0.019544 -0.045552 -0.105108   \n",
       "Master    0.125935 -0.023156 -0.019544  1.000000 -0.112426 -0.259415   \n",
       "Miss      0.085410  0.158175 -0.045552 -0.112426  1.000000 -0.604638   \n",
       "Mr       -0.326935 -0.109030 -0.105108 -0.259415 -0.604638  1.000000   \n",
       "Mrs       0.253327 -0.016983 -0.036447 -0.089955 -0.209665 -0.483788   \n",
       "Rev       0.008859 -0.014021 -0.007327 -0.018084 -0.042149 -0.097256   \n",
       "officer   0.066899 -0.015350 -0.006685 -0.016499 -0.038455 -0.088732   \n",
       "\n",
       "               Mrs       Rev   officer  \n",
       "Survived  0.347864 -0.064988  0.002496  \n",
       "Pclass   -0.169028 -0.048920 -0.109552  \n",
       "Sex      -0.555221  0.060741  0.055417  \n",
       "Age       0.167647  0.073560  0.113895  \n",
       "SibSp     0.237422 -0.028728 -0.021349  \n",
       "Parch     0.192753 -0.017239 -0.010533  \n",
       "Fare      0.253327  0.008859  0.066899  \n",
       "Embarked -0.016983 -0.014021 -0.015350  \n",
       "Dr       -0.036447 -0.007327 -0.006685  \n",
       "Master   -0.089955 -0.018084 -0.016499  \n",
       "Miss     -0.209665 -0.042149 -0.038455  \n",
       "Mr       -0.483788 -0.097256 -0.088732  \n",
       "Mrs       1.000000 -0.033725 -0.030769  \n",
       "Rev      -0.033725  1.000000 -0.006185  \n",
       "officer  -0.030769 -0.006185  1.000000  "
      ]
     },
     "execution_count": 13,
     "metadata": {},
     "output_type": "execute_result"
    }
   ],
   "source": [
    "scaledData.corr(method = 'spearman')"
   ]
  },
  {
   "cell_type": "markdown",
   "id": "380625c2",
   "metadata": {
    "slideshow": {
     "slide_type": "subslide"
    }
   },
   "source": [
    "## Social status and survival rate:"
   ]
  },
  {
   "cell_type": "code",
   "execution_count": 14,
   "id": "ebb51252",
   "metadata": {
    "slideshow": {
     "slide_type": "fragment"
    }
   },
   "outputs": [
    {
     "data": {
      "text/plain": [
       "<BarContainer object of 8 artists>"
      ]
     },
     "execution_count": 14,
     "metadata": {},
     "output_type": "execute_result"
    },
    {
     "data": {
      "image/png": "[encoded data removed]",
      "text/plain": [
       "<Figure size 432x288 with 1 Axes>"
      ]
     },
     "metadata": {
      "needs_background": "light"
     },
     "output_type": "display_data"
    }
   ],
   "source": [
    "cols = ['Sex','Dr','Miss','Master','Mr','Mrs','Rev','officer']\n",
    "survivalRates = []\n",
    "for col in cols:\n",
    "    counter1 = 0\n",
    "    counterAll = 0\n",
    "    for i in range(891):\n",
    "        if scaledData[col][i] == 1:\n",
    "            counterAll += 1\n",
    "            if scaledData['Survived'][i] == 1:\n",
    "                counter1+=1\n",
    "    survivalRates.append(round(counter1/counterAll,3)*100)\n",
    "    #print(col + ':\\t' + str(round(counter1/counterAll,3)*100) + '% survived')\n",
    "plt.bar(cols,survivalRates)"
   ]
  },
  {
   "cell_type": "markdown",
   "id": "374d3776",
   "metadata": {
    "slideshow": {
     "slide_type": "subslide"
    }
   },
   "source": [
    "## Relatives and survival rate:"
   ]
  },
  {
   "cell_type": "raw",
   "id": "da27f932",
   "metadata": {
    "slideshow": {
     "slide_type": "subslide"
    }
   },
   "source": [
    "grouped = data.groupby('SibSp')['Survived'].mean()\n",
    "plt.bar(grouped.index, grouped)\n",
    "plt.title('SibSp')"
   ]
  },
  {
   "cell_type": "code",
   "execution_count": 16,
   "id": "c934c5b3",
   "metadata": {
    "slideshow": {
     "slide_type": "subslide"
    }
   },
   "outputs": [
    {
     "data": {
      "text/plain": [
       "Text(0.5, 1.0, 'Parch')"
      ]
     },
     "execution_count": 16,
     "metadata": {},
     "output_type": "execute_result"
    },
    {
     "data": {
      "image/png": "[encoded data removed]",
      "text/plain": [
       "<Figure size 432x288 with 1 Axes>"
      ]
     },
     "metadata": {
      "needs_background": "light"
     },
     "output_type": "display_data"
    }
   ],
   "source": [
    "grouped = data.groupby('Parch')['Survived'].mean()\n",
    "plt.bar(grouped.index, grouped)\n",
    "plt.title('Parch')"
   ]
  },
  {
   "cell_type": "code",
   "execution_count": 17,
   "id": "ad475bf6",
   "metadata": {
    "slideshow": {
     "slide_type": "subslide"
    }
   },
   "outputs": [
    {
     "data": {
      "text/plain": [
       "Text(0.5, 1.0, 'relatives')"
      ]
     },
     "execution_count": 17,
     "metadata": {},
     "output_type": "execute_result"
    },
    {
     "data": {
      "image/png": "[encoded data removed]",
      "text/plain": [
       "<Figure size 432x288 with 1 Axes>"
      ]
     },
     "metadata": {
      "needs_background": "light"
     },
     "output_type": "display_data"
    }
   ],
   "source": [
    "relatives = data['SibSp'] + data['Parch']\n",
    "df = pd.DataFrame({'X': relatives, 'Y': data['Survived']})\n",
    "grouped = df.groupby('X')['Y'].mean()\n",
    "plt.bar(grouped.index, grouped)\n",
    "plt.title('relatives')"
   ]
  },
  {
   "cell_type": "code",
   "execution_count": 18,
   "id": "73ab6940",
   "metadata": {
    "scrolled": true,
    "slideshow": {
     "slide_type": "subslide"
    }
   },
   "outputs": [
    {
     "data": {
      "text/plain": [
       "Text(0.5, 1.0, 'relatives - hist')"
      ]
     },
     "execution_count": 18,
     "metadata": {},
     "output_type": "execute_result"
    },
    {
     "data": {
      "image/png": "[encoded data removed]",
      "text/plain": [
       "<Figure size 432x288 with 1 Axes>"
      ]
     },
     "metadata": {
      "needs_background": "light"
     },
     "output_type": "display_data"
    }
   ],
   "source": [
    "plt.hist(relatives)\n",
    "plt.title('relatives - hist')"
   ]
  },
  {
   "cell_type": "code",
   "execution_count": 19,
   "id": "0977a08f",
   "metadata": {
    "slideshow": {
     "slide_type": "subslide"
    }
   },
   "outputs": [
    {
     "data": {
      "text/plain": [
       "Text(0.5, 1.0, 'SibSp - hist')"
      ]
     },
     "execution_count": 19,
     "metadata": {},
     "output_type": "execute_result"
    },
    {
     "data": {
      "image/png": "[encoded data removed]",
      "text/plain": [
       "<Figure size 432x288 with 1 Axes>"
      ]
     },
     "metadata": {
      "needs_background": "light"
     },
     "output_type": "display_data"
    }
   ],
   "source": [
    "plt.hist(data['SibSp'])\n",
    "plt.title('SibSp - hist')"
   ]
  },
  {
   "cell_type": "code",
   "execution_count": 20,
   "id": "5ae5677f",
   "metadata": {
    "slideshow": {
     "slide_type": "subslide"
    }
   },
   "outputs": [
    {
     "data": {
      "text/plain": [
       "Text(0.5, 1.0, 'Parch - hist')"
      ]
     },
     "execution_count": 20,
     "metadata": {},
     "output_type": "execute_result"
    },
    {
     "data": {
      "image/png": "[encoded data removed]",
      "text/plain": [
       "<Figure size 432x288 with 1 Axes>"
      ]
     },
     "metadata": {
      "needs_background": "light"
     },
     "output_type": "display_data"
    }
   ],
   "source": [
    "plt.hist(data['Parch'])\n",
    "plt.title('Parch - hist')"
   ]
  },
  {
   "cell_type": "markdown",
   "id": "b586f01f",
   "metadata": {
    "slideshow": {
     "slide_type": "subslide"
    }
   },
   "source": [
    "## Fare and class:"
   ]
  },
  {
   "cell_type": "code",
   "execution_count": 21,
   "id": "d06a1c33",
   "metadata": {
    "slideshow": {
     "slide_type": "subslide"
    }
   },
   "outputs": [
    {
     "data": {
      "text/plain": [
       "<matplotlib.collections.PathCollection at 0x1b891618b20>"
      ]
     },
     "execution_count": 21,
     "metadata": {},
     "output_type": "execute_result"
    },
    {
     "data": {
      "image/png": "[encoded data removed]",
      "text/plain": [
       "<Figure size 432x288 with 1 Axes>"
      ]
     },
     "metadata": {
      "needs_background": "light"
     },
     "output_type": "display_data"
    }
   ],
   "source": [
    "plt.scatter(data['Fare'],data['Pclass'])"
   ]
  },
  {
   "cell_type": "code",
   "execution_count": 22,
   "id": "9fcb5b69",
   "metadata": {
    "slideshow": {
     "slide_type": "subslide"
    }
   },
   "outputs": [
    {
     "data": {
      "text/plain": [
       "Text(0.5, 1.0, 'Pclass')"
      ]
     },
     "execution_count": 22,
     "metadata": {},
     "output_type": "execute_result"
    },
    {
     "data": {
      "image/png": "[encoded data removed]",
      "text/plain": [
       "<Figure size 432x288 with 1 Axes>"
      ]
     },
     "metadata": {
      "needs_background": "light"
     },
     "output_type": "display_data"
    }
   ],
   "source": [
    "grouped = data.groupby('Pclass')['Survived'].mean()\n",
    "plt.bar(grouped.index, grouped)\n",
    "plt.title('Pclass')"
   ]
  },
  {
   "cell_type": "code",
   "execution_count": 23,
   "id": "a39cef3b",
   "metadata": {
    "slideshow": {
     "slide_type": "subslide"
    }
   },
   "outputs": [
    {
     "data": {
      "text/plain": [
       "<matplotlib.collections.PathCollection at 0x1b8916ef730>"
      ]
     },
     "execution_count": 23,
     "metadata": {},
     "output_type": "execute_result"
    },
    {
     "data": {
      "image/png": "[encoded data removed]",
      "text/plain": [
       "<Figure size 432x288 with 1 Axes>"
      ]
     },
     "metadata": {
      "needs_background": "light"
     },
     "output_type": "display_data"
    }
   ],
   "source": [
    "plt.scatter(data['Fare'],data['Survived'])"
   ]
  },
  {
   "cell_type": "markdown",
   "id": "a12570a1",
   "metadata": {
    "slideshow": {
     "slide_type": "slide"
    }
   },
   "source": [
    "## Data preparation"
   ]
  },
  {
   "cell_type": "code",
   "execution_count": 24,
   "id": "7e778eb2",
   "metadata": {
    "slideshow": {
     "slide_type": "fragment"
    }
   },
   "outputs": [],
   "source": [
    "def prepareData(data):\n",
    "    ProffesionTitle = []\n",
    "    for i in range(len(data)):\n",
    "            if data['officer'][i] == 1 or data['Dr'][i]:\n",
    "                ProffesionTitle.append(1)\n",
    "            else:\n",
    "                ProffesionTitle.append(0)\n",
    "\n",
    "    data['ProffesionTitle'] = ProffesionTitle\n",
    "    del data['officer']\n",
    "    del data['Dr']\n",
    "    \n",
    "    relatives = data['SibSp'] + data['Parch']\n",
    "    \n",
    "    alone = []\n",
    "    bigFamily = []\n",
    "    \n",
    "    for i in range(len(data)):\n",
    "        if relatives[i] == 0:\n",
    "            alone.append(1)\n",
    "            bigFamily.append(0)\n",
    "        elif relatives[i] > 3:\n",
    "            alone.append(0)\n",
    "            bigFamily.append(1)\n",
    "        else:\n",
    "            alone.append(0)\n",
    "            bigFamily.append(0)\n",
    "    del data['SibSp']\n",
    "    del data['Parch']\n",
    "    \n",
    "    data['alone'] = alone\n",
    "    data['bigFamily'] = bigFamily\n",
    "    \n",
    "    return pd.DataFrame(scaler.fit_transform(data), columns=data.columns)\n",
    "\n",
    "scaledTest = prepareData(test)\n",
    "scaledData = prepareData(data)"
   ]
  },
  {
   "cell_type": "markdown",
   "id": "75392427",
   "metadata": {
    "slideshow": {
     "slide_type": "slide"
    }
   },
   "source": [
    "# Correlation table again"
   ]
  },
  {
   "cell_type": "code",
   "execution_count": 25,
   "id": "c4935ba9",
   "metadata": {
    "slideshow": {
     "slide_type": "fragment"
    }
   },
   "outputs": [
    {
     "data": {
      "text/html": [
       "<div>\n",
       "<style scoped>\n",
       "    .dataframe tbody tr th:only-of-type {\n",
       "        vertical-align: middle;\n",
       "    }\n",
       "\n",
       "    .dataframe tbody tr th {\n",
       "        vertical-align: top;\n",
       "    }\n",
       "\n",
       "    .dataframe thead th {\n",
       "        text-align: right;\n",
       "    }\n",
       "</style>\n",
       "<table border=\"1\" class=\"dataframe\">\n",
       "  <thead>\n",
       "    <tr style=\"text-align: right;\">\n",
       "      <th></th>\n",
       "      <th>Survived</th>\n",
       "      <th>Pclass</th>\n",
       "      <th>Sex</th>\n",
       "      <th>Age</th>\n",
       "      <th>Fare</th>\n",
       "      <th>Embarked</th>\n",
       "      <th>Master</th>\n",
       "      <th>Miss</th>\n",
       "      <th>Mr</th>\n",
       "      <th>Mrs</th>\n",
       "      <th>Rev</th>\n",
       "      <th>ProffesionTitle</th>\n",
       "      <th>alone</th>\n",
       "      <th>bigFamily</th>\n",
       "    </tr>\n",
       "  </thead>\n",
       "  <tbody>\n",
       "    <tr>\n",
       "      <th>Survived</th>\n",
       "      <td>1.000000</td>\n",
       "      <td>-0.339668</td>\n",
       "      <td>-0.543351</td>\n",
       "      <td>-0.009728</td>\n",
       "      <td>0.323736</td>\n",
       "      <td>0.135861</td>\n",
       "      <td>0.079996</td>\n",
       "      <td>0.335636</td>\n",
       "      <td>-0.548524</td>\n",
       "      <td>0.347864</td>\n",
       "      <td>-0.064988</td>\n",
       "      <td>0.007887</td>\n",
       "      <td>-0.203367</td>\n",
       "      <td>-0.125147</td>\n",
       "    </tr>\n",
       "    <tr>\n",
       "      <th>Pclass</th>\n",
       "      <td>-0.339668</td>\n",
       "      <td>1.000000</td>\n",
       "      <td>0.135775</td>\n",
       "      <td>-0.264682</td>\n",
       "      <td>-0.688032</td>\n",
       "      <td>-0.004962</td>\n",
       "      <td>0.069727</td>\n",
       "      <td>-0.009714</td>\n",
       "      <td>0.142590</td>\n",
       "      <td>-0.169028</td>\n",
       "      <td>-0.048920</td>\n",
       "      <td>-0.153562</td>\n",
       "      <td>0.135896</td>\n",
       "      <td>0.162003</td>\n",
       "    </tr>\n",
       "    <tr>\n",
       "      <th>Sex</th>\n",
       "      <td>-0.543351</td>\n",
       "      <td>0.135775</td>\n",
       "      <td>1.000000</td>\n",
       "      <td>0.046239</td>\n",
       "      <td>-0.259593</td>\n",
       "      <td>-0.120400</td>\n",
       "      <td>0.162017</td>\n",
       "      <td>-0.693916</td>\n",
       "      <td>0.871343</td>\n",
       "      <td>-0.555221</td>\n",
       "      <td>0.060741</td>\n",
       "      <td>0.065812</td>\n",
       "      <td>0.303646</td>\n",
       "      <td>-0.102954</td>\n",
       "    </tr>\n",
       "    <tr>\n",
       "      <th>Age</th>\n",
       "      <td>-0.009728</td>\n",
       "      <td>-0.264682</td>\n",
       "      <td>0.046239</td>\n",
       "      <td>1.000000</td>\n",
       "      <td>0.093642</td>\n",
       "      <td>0.035162</td>\n",
       "      <td>-0.290468</td>\n",
       "      <td>-0.203188</td>\n",
       "      <td>0.128311</td>\n",
       "      <td>0.167647</td>\n",
       "      <td>0.073560</td>\n",
       "      <td>0.131701</td>\n",
       "      <td>0.144730</td>\n",
       "      <td>-0.175668</td>\n",
       "    </tr>\n",
       "    <tr>\n",
       "      <th>Fare</th>\n",
       "      <td>0.323736</td>\n",
       "      <td>-0.688032</td>\n",
       "      <td>-0.259593</td>\n",
       "      <td>0.093642</td>\n",
       "      <td>1.000000</td>\n",
       "      <td>-0.010172</td>\n",
       "      <td>0.125935</td>\n",
       "      <td>0.085410</td>\n",
       "      <td>-0.326935</td>\n",
       "      <td>0.253327</td>\n",
       "      <td>0.008859</td>\n",
       "      <td>0.092143</td>\n",
       "      <td>-0.531472</td>\n",
       "      <td>0.251052</td>\n",
       "    </tr>\n",
       "    <tr>\n",
       "      <th>Embarked</th>\n",
       "      <td>0.135861</td>\n",
       "      <td>-0.004962</td>\n",
       "      <td>-0.120400</td>\n",
       "      <td>0.035162</td>\n",
       "      <td>-0.010172</td>\n",
       "      <td>1.000000</td>\n",
       "      <td>-0.023156</td>\n",
       "      <td>0.158175</td>\n",
       "      <td>-0.109030</td>\n",
       "      <td>-0.016983</td>\n",
       "      <td>-0.014021</td>\n",
       "      <td>0.013579</td>\n",
       "      <td>-0.011471</td>\n",
       "      <td>-0.090646</td>\n",
       "    </tr>\n",
       "    <tr>\n",
       "      <th>Master</th>\n",
       "      <td>0.079996</td>\n",
       "      <td>0.069727</td>\n",
       "      <td>0.162017</td>\n",
       "      <td>-0.290468</td>\n",
       "      <td>0.125935</td>\n",
       "      <td>-0.023156</td>\n",
       "      <td>1.000000</td>\n",
       "      <td>-0.112426</td>\n",
       "      <td>-0.259415</td>\n",
       "      <td>-0.089955</td>\n",
       "      <td>-0.018084</td>\n",
       "      <td>-0.025661</td>\n",
       "      <td>-0.259554</td>\n",
       "      <td>0.318882</td>\n",
       "    </tr>\n",
       "    <tr>\n",
       "      <th>Miss</th>\n",
       "      <td>0.335636</td>\n",
       "      <td>-0.009714</td>\n",
       "      <td>-0.693916</td>\n",
       "      <td>-0.203188</td>\n",
       "      <td>0.085410</td>\n",
       "      <td>0.158175</td>\n",
       "      <td>-0.112426</td>\n",
       "      <td>1.000000</td>\n",
       "      <td>-0.604638</td>\n",
       "      <td>-0.209665</td>\n",
       "      <td>-0.042149</td>\n",
       "      <td>-0.059811</td>\n",
       "      <td>-0.048054</td>\n",
       "      <td>0.110126</td>\n",
       "    </tr>\n",
       "    <tr>\n",
       "      <th>Mr</th>\n",
       "      <td>-0.548524</td>\n",
       "      <td>0.142590</td>\n",
       "      <td>0.871343</td>\n",
       "      <td>0.128311</td>\n",
       "      <td>-0.326935</td>\n",
       "      <td>-0.109030</td>\n",
       "      <td>-0.259415</td>\n",
       "      <td>-0.604638</td>\n",
       "      <td>1.000000</td>\n",
       "      <td>-0.483788</td>\n",
       "      <td>-0.097256</td>\n",
       "      <td>-0.138009</td>\n",
       "      <td>0.396263</td>\n",
       "      <td>-0.224633</td>\n",
       "    </tr>\n",
       "    <tr>\n",
       "      <th>Mrs</th>\n",
       "      <td>0.347864</td>\n",
       "      <td>-0.169028</td>\n",
       "      <td>-0.555221</td>\n",
       "      <td>0.167647</td>\n",
       "      <td>0.253327</td>\n",
       "      <td>-0.016983</td>\n",
       "      <td>-0.089955</td>\n",
       "      <td>-0.209665</td>\n",
       "      <td>-0.483788</td>\n",
       "      <td>1.000000</td>\n",
       "      <td>-0.033725</td>\n",
       "      <td>-0.047856</td>\n",
       "      <td>-0.360600</td>\n",
       "      <td>0.013747</td>\n",
       "    </tr>\n",
       "    <tr>\n",
       "      <th>Rev</th>\n",
       "      <td>-0.064988</td>\n",
       "      <td>-0.048920</td>\n",
       "      <td>0.060741</td>\n",
       "      <td>0.073560</td>\n",
       "      <td>0.008859</td>\n",
       "      <td>-0.014021</td>\n",
       "      <td>-0.018084</td>\n",
       "      <td>-0.042149</td>\n",
       "      <td>-0.097256</td>\n",
       "      <td>-0.033725</td>\n",
       "      <td>1.000000</td>\n",
       "      <td>-0.009621</td>\n",
       "      <td>0.010764</td>\n",
       "      <td>-0.022518</td>\n",
       "    </tr>\n",
       "    <tr>\n",
       "      <th>ProffesionTitle</th>\n",
       "      <td>0.007887</td>\n",
       "      <td>-0.153562</td>\n",
       "      <td>0.065812</td>\n",
       "      <td>0.131701</td>\n",
       "      <td>0.092143</td>\n",
       "      <td>0.013579</td>\n",
       "      <td>-0.025661</td>\n",
       "      <td>-0.059811</td>\n",
       "      <td>-0.138009</td>\n",
       "      <td>-0.047856</td>\n",
       "      <td>-0.009621</td>\n",
       "      <td>1.000000</td>\n",
       "      <td>0.035173</td>\n",
       "      <td>-0.031953</td>\n",
       "    </tr>\n",
       "    <tr>\n",
       "      <th>alone</th>\n",
       "      <td>-0.203367</td>\n",
       "      <td>0.135896</td>\n",
       "      <td>0.303646</td>\n",
       "      <td>0.144730</td>\n",
       "      <td>-0.531472</td>\n",
       "      <td>-0.011471</td>\n",
       "      <td>-0.259554</td>\n",
       "      <td>-0.048054</td>\n",
       "      <td>0.396263</td>\n",
       "      <td>-0.360600</td>\n",
       "      <td>0.010764</td>\n",
       "      <td>0.035173</td>\n",
       "      <td>1.000000</td>\n",
       "      <td>-0.336825</td>\n",
       "    </tr>\n",
       "    <tr>\n",
       "      <th>bigFamily</th>\n",
       "      <td>-0.125147</td>\n",
       "      <td>0.162003</td>\n",
       "      <td>-0.102954</td>\n",
       "      <td>-0.175668</td>\n",
       "      <td>0.251052</td>\n",
       "      <td>-0.090646</td>\n",
       "      <td>0.318882</td>\n",
       "      <td>0.110126</td>\n",
       "      <td>-0.224633</td>\n",
       "      <td>0.013747</td>\n",
       "      <td>-0.022518</td>\n",
       "      <td>-0.031953</td>\n",
       "      <td>-0.336825</td>\n",
       "      <td>1.000000</td>\n",
       "    </tr>\n",
       "  </tbody>\n",
       "</table>\n",
       "</div>"
      ],
      "text/plain": [
       "                 Survived    Pclass       Sex       Age      Fare  Embarked  \\\n",
       "Survived         1.000000 -0.339668 -0.543351 -0.009728  0.323736  0.135861   \n",
       "Pclass          -0.339668  1.000000  0.135775 -0.264682 -0.688032 -0.004962   \n",
       "Sex             -0.543351  0.135775  1.000000  0.046239 -0.259593 -0.120400   \n",
       "Age             -0.009728 -0.264682  0.046239  1.000000  0.093642  0.035162   \n",
       "Fare             0.323736 -0.688032 -0.259593  0.093642  1.000000 -0.010172   \n",
       "Embarked         0.135861 -0.004962 -0.120400  0.035162 -0.010172  1.000000   \n",
       "Master           0.079996  0.069727  0.162017 -0.290468  0.125935 -0.023156   \n",
       "Miss             0.335636 -0.009714 -0.693916 -0.203188  0.085410  0.158175   \n",
       "Mr              -0.548524  0.142590  0.871343  0.128311 -0.326935 -0.109030   \n",
       "Mrs              0.347864 -0.169028 -0.555221  0.167647  0.253327 -0.016983   \n",
       "Rev             -0.064988 -0.048920  0.060741  0.073560  0.008859 -0.014021   \n",
       "ProffesionTitle  0.007887 -0.153562  0.065812  0.131701  0.092143  0.013579   \n",
       "alone           -0.203367  0.135896  0.303646  0.144730 -0.531472 -0.011471   \n",
       "bigFamily       -0.125147  0.162003 -0.102954 -0.175668  0.251052 -0.090646   \n",
       "\n",
       "                   Master      Miss        Mr       Mrs       Rev  \\\n",
       "Survived         0.079996  0.335636 -0.548524  0.347864 -0.064988   \n",
       "Pclass           0.069727 -0.009714  0.142590 -0.169028 -0.048920   \n",
       "Sex              0.162017 -0.693916  0.871343 -0.555221  0.060741   \n",
       "Age             -0.290468 -0.203188  0.128311  0.167647  0.073560   \n",
       "Fare             0.125935  0.085410 -0.326935  0.253327  0.008859   \n",
       "Embarked        -0.023156  0.158175 -0.109030 -0.016983 -0.014021   \n",
       "Master           1.000000 -0.112426 -0.259415 -0.089955 -0.018084   \n",
       "Miss            -0.112426  1.000000 -0.604638 -0.209665 -0.042149   \n",
       "Mr              -0.259415 -0.604638  1.000000 -0.483788 -0.097256   \n",
       "Mrs             -0.089955 -0.209665 -0.483788  1.000000 -0.033725   \n",
       "Rev             -0.018084 -0.042149 -0.097256 -0.033725  1.000000   \n",
       "ProffesionTitle -0.025661 -0.059811 -0.138009 -0.047856 -0.009621   \n",
       "alone           -0.259554 -0.048054  0.396263 -0.360600  0.010764   \n",
       "bigFamily        0.318882  0.110126 -0.224633  0.013747 -0.022518   \n",
       "\n",
       "                 ProffesionTitle     alone  bigFamily  \n",
       "Survived                0.007887 -0.203367  -0.125147  \n",
       "Pclass                 -0.153562  0.135896   0.162003  \n",
       "Sex                     0.065812  0.303646  -0.102954  \n",
       "Age                     0.131701  0.144730  -0.175668  \n",
       "Fare                    0.092143 -0.531472   0.251052  \n",
       "Embarked                0.013579 -0.011471  -0.090646  \n",
       "Master                 -0.025661 -0.259554   0.318882  \n",
       "Miss                   -0.059811 -0.048054   0.110126  \n",
       "Mr                     -0.138009  0.396263  -0.224633  \n",
       "Mrs                    -0.047856 -0.360600   0.013747  \n",
       "Rev                    -0.009621  0.010764  -0.022518  \n",
       "ProffesionTitle         1.000000  0.035173  -0.031953  \n",
       "alone                   0.035173  1.000000  -0.336825  \n",
       "bigFamily              -0.031953 -0.336825   1.000000  "
      ]
     },
     "execution_count": 25,
     "metadata": {},
     "output_type": "execute_result"
    }
   ],
   "source": [
    "scaledData.corr(method = 'spearman')"
   ]
  },
  {
   "cell_type": "code",
   "execution_count": 26,
   "id": "f38a371a",
   "metadata": {
    "slideshow": {
     "slide_type": "skip"
    }
   },
   "outputs": [],
   "source": [
    "\n",
    "#ProffesionTitle = []\n",
    "#for i in range(418):\n",
    " #       if scaledTest['officer'][i] == 1 or scaledTest['Dr'][i]:\n",
    "  #          ProffesionTitle.append(1)\n",
    "   #     else:\n",
    "    #        ProffesionTitle.append(0)\n",
    "            \n",
    "#scaledTest['ProffesionTitle'] = ProffesionTitle\n",
    "#del scaledTest['officer']\n",
    "#del scaledTest['Dr']"
   ]
  },
  {
   "cell_type": "code",
   "execution_count": 27,
   "id": "844fd1a8",
   "metadata": {
    "slideshow": {
     "slide_type": "subslide"
    }
   },
   "outputs": [
    {
     "data": {
      "text/html": [
       "<div>\n",
       "<style scoped>\n",
       "    .dataframe tbody tr th:only-of-type {\n",
       "        vertical-align: middle;\n",
       "    }\n",
       "\n",
       "    .dataframe tbody tr th {\n",
       "        vertical-align: top;\n",
       "    }\n",
       "\n",
       "    .dataframe thead th {\n",
       "        text-align: right;\n",
       "    }\n",
       "</style>\n",
       "<table border=\"1\" class=\"dataframe\">\n",
       "  <thead>\n",
       "    <tr style=\"text-align: right;\">\n",
       "      <th></th>\n",
       "      <th>Pclass</th>\n",
       "      <th>Sex</th>\n",
       "      <th>Age</th>\n",
       "      <th>Fare</th>\n",
       "      <th>Embarked</th>\n",
       "      <th>Master</th>\n",
       "      <th>Miss</th>\n",
       "      <th>Mr</th>\n",
       "      <th>Mrs</th>\n",
       "      <th>Rev</th>\n",
       "      <th>ProffesionTitle</th>\n",
       "      <th>alone</th>\n",
       "      <th>bigFamily</th>\n",
       "    </tr>\n",
       "  </thead>\n",
       "  <tbody>\n",
       "    <tr>\n",
       "      <th>0</th>\n",
       "      <td>1.0</td>\n",
       "      <td>1.0</td>\n",
       "      <td>0.416020</td>\n",
       "      <td>0.014151</td>\n",
       "      <td>0.0</td>\n",
       "      <td>0.0</td>\n",
       "      <td>0.0</td>\n",
       "      <td>1.0</td>\n",
       "      <td>0.0</td>\n",
       "      <td>0.0</td>\n",
       "      <td>0.0</td>\n",
       "      <td>0.0</td>\n",
       "      <td>0.0</td>\n",
       "    </tr>\n",
       "    <tr>\n",
       "      <th>1</th>\n",
       "      <td>0.0</td>\n",
       "      <td>0.0</td>\n",
       "      <td>0.577118</td>\n",
       "      <td>0.139136</td>\n",
       "      <td>0.5</td>\n",
       "      <td>0.0</td>\n",
       "      <td>0.0</td>\n",
       "      <td>0.0</td>\n",
       "      <td>1.0</td>\n",
       "      <td>0.0</td>\n",
       "      <td>0.0</td>\n",
       "      <td>0.0</td>\n",
       "      <td>0.0</td>\n",
       "    </tr>\n",
       "    <tr>\n",
       "      <th>2</th>\n",
       "      <td>1.0</td>\n",
       "      <td>0.0</td>\n",
       "      <td>0.456294</td>\n",
       "      <td>0.015469</td>\n",
       "      <td>0.0</td>\n",
       "      <td>0.0</td>\n",
       "      <td>1.0</td>\n",
       "      <td>0.0</td>\n",
       "      <td>0.0</td>\n",
       "      <td>0.0</td>\n",
       "      <td>0.0</td>\n",
       "      <td>1.0</td>\n",
       "      <td>0.0</td>\n",
       "    </tr>\n",
       "    <tr>\n",
       "      <th>3</th>\n",
       "      <td>0.0</td>\n",
       "      <td>0.0</td>\n",
       "      <td>0.546912</td>\n",
       "      <td>0.103644</td>\n",
       "      <td>0.0</td>\n",
       "      <td>0.0</td>\n",
       "      <td>0.0</td>\n",
       "      <td>0.0</td>\n",
       "      <td>1.0</td>\n",
       "      <td>0.0</td>\n",
       "      <td>0.0</td>\n",
       "      <td>0.0</td>\n",
       "      <td>0.0</td>\n",
       "    </tr>\n",
       "    <tr>\n",
       "      <th>4</th>\n",
       "      <td>1.0</td>\n",
       "      <td>1.0</td>\n",
       "      <td>0.546912</td>\n",
       "      <td>0.015713</td>\n",
       "      <td>0.0</td>\n",
       "      <td>0.0</td>\n",
       "      <td>0.0</td>\n",
       "      <td>1.0</td>\n",
       "      <td>0.0</td>\n",
       "      <td>0.0</td>\n",
       "      <td>0.0</td>\n",
       "      <td>1.0</td>\n",
       "      <td>0.0</td>\n",
       "    </tr>\n",
       "    <tr>\n",
       "      <th>...</th>\n",
       "      <td>...</td>\n",
       "      <td>...</td>\n",
       "      <td>...</td>\n",
       "      <td>...</td>\n",
       "      <td>...</td>\n",
       "      <td>...</td>\n",
       "      <td>...</td>\n",
       "      <td>...</td>\n",
       "      <td>...</td>\n",
       "      <td>...</td>\n",
       "      <td>...</td>\n",
       "      <td>...</td>\n",
       "      <td>...</td>\n",
       "    </tr>\n",
       "    <tr>\n",
       "      <th>886</th>\n",
       "      <td>0.5</td>\n",
       "      <td>1.0</td>\n",
       "      <td>0.466363</td>\n",
       "      <td>0.025374</td>\n",
       "      <td>0.0</td>\n",
       "      <td>0.0</td>\n",
       "      <td>0.0</td>\n",
       "      <td>0.0</td>\n",
       "      <td>0.0</td>\n",
       "      <td>1.0</td>\n",
       "      <td>0.0</td>\n",
       "      <td>1.0</td>\n",
       "      <td>0.0</td>\n",
       "    </tr>\n",
       "    <tr>\n",
       "      <th>887</th>\n",
       "      <td>0.0</td>\n",
       "      <td>0.0</td>\n",
       "      <td>0.385814</td>\n",
       "      <td>0.058556</td>\n",
       "      <td>0.0</td>\n",
       "      <td>0.0</td>\n",
       "      <td>1.0</td>\n",
       "      <td>0.0</td>\n",
       "      <td>0.0</td>\n",
       "      <td>0.0</td>\n",
       "      <td>0.0</td>\n",
       "      <td>1.0</td>\n",
       "      <td>0.0</td>\n",
       "    </tr>\n",
       "    <tr>\n",
       "      <th>888</th>\n",
       "      <td>1.0</td>\n",
       "      <td>0.0</td>\n",
       "      <td>0.411650</td>\n",
       "      <td>0.045771</td>\n",
       "      <td>0.0</td>\n",
       "      <td>0.0</td>\n",
       "      <td>1.0</td>\n",
       "      <td>0.0</td>\n",
       "      <td>0.0</td>\n",
       "      <td>0.0</td>\n",
       "      <td>0.0</td>\n",
       "      <td>0.0</td>\n",
       "      <td>0.0</td>\n",
       "    </tr>\n",
       "    <tr>\n",
       "      <th>889</th>\n",
       "      <td>0.0</td>\n",
       "      <td>1.0</td>\n",
       "      <td>0.456294</td>\n",
       "      <td>0.058556</td>\n",
       "      <td>0.5</td>\n",
       "      <td>0.0</td>\n",
       "      <td>0.0</td>\n",
       "      <td>1.0</td>\n",
       "      <td>0.0</td>\n",
       "      <td>0.0</td>\n",
       "      <td>0.0</td>\n",
       "      <td>1.0</td>\n",
       "      <td>0.0</td>\n",
       "    </tr>\n",
       "    <tr>\n",
       "      <th>890</th>\n",
       "      <td>1.0</td>\n",
       "      <td>1.0</td>\n",
       "      <td>0.516706</td>\n",
       "      <td>0.015127</td>\n",
       "      <td>1.0</td>\n",
       "      <td>0.0</td>\n",
       "      <td>0.0</td>\n",
       "      <td>1.0</td>\n",
       "      <td>0.0</td>\n",
       "      <td>0.0</td>\n",
       "      <td>0.0</td>\n",
       "      <td>1.0</td>\n",
       "      <td>0.0</td>\n",
       "    </tr>\n",
       "  </tbody>\n",
       "</table>\n",
       "<p>891 rows × 13 columns</p>\n",
       "</div>"
      ],
      "text/plain": [
       "     Pclass  Sex       Age      Fare  Embarked  Master  Miss   Mr  Mrs  Rev  \\\n",
       "0       1.0  1.0  0.416020  0.014151       0.0     0.0   0.0  1.0  0.0  0.0   \n",
       "1       0.0  0.0  0.577118  0.139136       0.5     0.0   0.0  0.0  1.0  0.0   \n",
       "2       1.0  0.0  0.456294  0.015469       0.0     0.0   1.0  0.0  0.0  0.0   \n",
       "3       0.0  0.0  0.546912  0.103644       0.0     0.0   0.0  0.0  1.0  0.0   \n",
       "4       1.0  1.0  0.546912  0.015713       0.0     0.0   0.0  1.0  0.0  0.0   \n",
       "..      ...  ...       ...       ...       ...     ...   ...  ...  ...  ...   \n",
       "886     0.5  1.0  0.466363  0.025374       0.0     0.0   0.0  0.0  0.0  1.0   \n",
       "887     0.0  0.0  0.385814  0.058556       0.0     0.0   1.0  0.0  0.0  0.0   \n",
       "888     1.0  0.0  0.411650  0.045771       0.0     0.0   1.0  0.0  0.0  0.0   \n",
       "889     0.0  1.0  0.456294  0.058556       0.5     0.0   0.0  1.0  0.0  0.0   \n",
       "890     1.0  1.0  0.516706  0.015127       1.0     0.0   0.0  1.0  0.0  0.0   \n",
       "\n",
       "     ProffesionTitle  alone  bigFamily  \n",
       "0                0.0    0.0        0.0  \n",
       "1                0.0    0.0        0.0  \n",
       "2                0.0    1.0        0.0  \n",
       "3                0.0    0.0        0.0  \n",
       "4                0.0    1.0        0.0  \n",
       "..               ...    ...        ...  \n",
       "886              0.0    1.0        0.0  \n",
       "887              0.0    1.0        0.0  \n",
       "888              0.0    0.0        0.0  \n",
       "889              0.0    1.0        0.0  \n",
       "890              0.0    1.0        0.0  \n",
       "\n",
       "[891 rows x 13 columns]"
      ]
     },
     "execution_count": 27,
     "metadata": {},
     "output_type": "execute_result"
    }
   ],
   "source": [
    "X = copy.deepcopy(scaledData)\n",
    "del X['Survived']\n",
    "X"
   ]
  },
  {
   "cell_type": "markdown",
   "id": "c2931f75",
   "metadata": {
    "slideshow": {
     "slide_type": "slide"
    }
   },
   "source": [
    "# Using linear regression to find the most relevant columns:"
   ]
  },
  {
   "cell_type": "code",
   "execution_count": 28,
   "id": "a6a31bf6",
   "metadata": {
    "slideshow": {
     "slide_type": "subslide"
    }
   },
   "outputs": [
    {
     "name": "stdout",
     "output_type": "stream",
     "text": [
      "                            OLS Regression Results                            \n",
      "==============================================================================\n",
      "Dep. Variable:               Survived   R-squared:                       0.455\n",
      "Model:                            OLS   Adj. R-squared:                  0.448\n",
      "Method:                 Least Squares   F-statistic:                     61.10\n",
      "Date:                Sat, 20 May 2023   Prob (F-statistic):          5.08e-107\n",
      "Time:                        12:22:19   Log-Likelihood:                -351.52\n",
      "No. Observations:                 891   AIC:                             729.0\n",
      "Df Residuals:                     878   BIC:                             791.3\n",
      "Df Model:                          12                                         \n",
      "Covariance Type:            nonrobust                                         \n",
      "===================================================================================\n",
      "                      coef    std err          t      P>|t|      [0.025      0.975]\n",
      "-----------------------------------------------------------------------------------\n",
      "const               0.9038      0.219      4.122      0.000       0.473       1.334\n",
      "Pclass             -0.2510      0.039     -6.509      0.000      -0.327      -0.175\n",
      "Sex                -0.6384      0.378     -1.689      0.092      -1.380       0.103\n",
      "Age                -0.1112      0.096     -1.158      0.247      -0.300       0.077\n",
      "Fare                0.3576      0.160      2.230      0.026       0.043       0.672\n",
      "Embarked            0.0592      0.040      1.498      0.135      -0.018       0.137\n",
      "Master              0.6925      0.177      3.919      0.000       0.346       1.039\n",
      "Miss                0.0090      0.215      0.042      0.967      -0.413       0.431\n",
      "Mr                  0.0971      0.170      0.571      0.568      -0.237       0.431\n",
      "Mrs                 0.0702      0.216      0.325      0.745      -0.353       0.494\n",
      "Rev                -0.1034      0.211     -0.490      0.624      -0.517       0.311\n",
      "ProffesionTitle     0.1384      0.166      0.836      0.403      -0.186       0.463\n",
      "alone               0.0161      0.031      0.526      0.599      -0.044       0.076\n",
      "bigFamily          -0.4565      0.055     -8.227      0.000      -0.565      -0.348\n",
      "==============================================================================\n",
      "Omnibus:                       52.073   Durbin-Watson:                   2.010\n",
      "Prob(Omnibus):                  0.000   Jarque-Bera (JB):               63.597\n",
      "Skew:                           0.555   Prob(JB):                     1.55e-14\n",
      "Kurtosis:                       3.693   Cond. No.                     3.69e+15\n",
      "==============================================================================\n",
      "\n",
      "Notes:\n",
      "[1] Standard Errors assume that the covariance matrix of the errors is correctly specified.\n",
      "[2] The smallest eigenvalue is 2.05e-28. This might indicate that there are\n",
      "strong multicollinearity problems or that the design matrix is singular.\n"
     ]
    }
   ],
   "source": [
    "lm = sm.OLS(scaledData['Survived'], sm.add_constant(X))\n",
    "print(lm.fit().summary())"
   ]
  },
  {
   "cell_type": "code",
   "execution_count": 29,
   "id": "82a03c0b",
   "metadata": {
    "slideshow": {
     "slide_type": "subslide"
    }
   },
   "outputs": [
    {
     "name": "stdout",
     "output_type": "stream",
     "text": [
      "                            OLS Regression Results                            \n",
      "==============================================================================\n",
      "Dep. Variable:               Survived   R-squared:                       0.388\n",
      "Model:                            OLS   Adj. R-squared:                  0.385\n",
      "Method:                 Least Squares   F-statistic:                     140.5\n",
      "Date:                Sat, 20 May 2023   Prob (F-statistic):           5.65e-93\n",
      "Time:                        12:22:19   Log-Likelihood:                -403.17\n",
      "No. Observations:                 891   AIC:                             816.3\n",
      "Df Residuals:                     886   BIC:                             840.3\n",
      "Df Model:                           4                                         \n",
      "Covariance Type:            nonrobust                                         \n",
      "==============================================================================\n",
      "                 coef    std err          t      P>|t|      [0.025      0.975]\n",
      "------------------------------------------------------------------------------\n",
      "const          0.6642      0.053     12.471      0.000       0.560       0.769\n",
      "Pclass        -0.3065      0.031     -9.867      0.000      -0.367      -0.246\n",
      "Miss           0.2357      0.057      4.131      0.000       0.124       0.348\n",
      "Mr            -0.2909      0.052     -5.544      0.000      -0.394      -0.188\n",
      "Mrs            0.2835      0.060      4.713      0.000       0.165       0.402\n",
      "==============================================================================\n",
      "Omnibus:                       29.401   Durbin-Watson:                   1.947\n",
      "Prob(Omnibus):                  0.000   Jarque-Bera (JB):               31.507\n",
      "Skew:                           0.456   Prob(JB):                     1.44e-07\n",
      "Kurtosis:                       3.126   Cond. No.                         11.1\n",
      "==============================================================================\n",
      "\n",
      "Notes:\n",
      "[1] Standard Errors assume that the covariance matrix of the errors is correctly specified.\n"
     ]
    }
   ],
   "source": [
    "olsX = X.drop(['Sex','Age','Fare','Embarked','ProffesionTitle','Master','bigFamily','alone','Rev'], axis=1)\n",
    "lm = sm.OLS(scaledData['Survived'], sm.add_constant(olsX))\n",
    "print(lm.fit().summary())"
   ]
  },
  {
   "cell_type": "code",
   "execution_count": 30,
   "id": "e55f8a97",
   "metadata": {
    "slideshow": {
     "slide_type": "subslide"
    }
   },
   "outputs": [
    {
     "name": "stdout",
     "output_type": "stream",
     "text": [
      "                            OLS Regression Results                            \n",
      "==============================================================================\n",
      "Dep. Variable:               Survived   R-squared:                       0.393\n",
      "Model:                            OLS   Adj. R-squared:                  0.389\n",
      "Method:                 Least Squares   F-statistic:                     95.50\n",
      "Date:                Sat, 20 May 2023   Prob (F-statistic):           1.84e-92\n",
      "Time:                        12:22:19   Log-Likelihood:                -399.35\n",
      "No. Observations:                 891   AIC:                             812.7\n",
      "Df Residuals:                     884   BIC:                             846.2\n",
      "Df Model:                           6                                         \n",
      "Covariance Type:            nonrobust                                         \n",
      "==============================================================================\n",
      "                 coef    std err          t      P>|t|      [0.025      0.975]\n",
      "------------------------------------------------------------------------------\n",
      "const          0.7585      0.069     11.070      0.000       0.624       0.893\n",
      "Pclass        -0.3330      0.033    -10.222      0.000      -0.397      -0.269\n",
      "Age           -0.2309      0.097     -2.382      0.017      -0.421      -0.041\n",
      "Miss           0.2285      0.058      3.962      0.000       0.115       0.342\n",
      "Mr            -0.2912      0.055     -5.270      0.000      -0.400      -0.183\n",
      "Mrs            0.3194      0.062      5.183      0.000       0.198       0.440\n",
      "alone          0.0560      0.030      1.859      0.063      -0.003       0.115\n",
      "==============================================================================\n",
      "Omnibus:                       32.418   Durbin-Watson:                   1.955\n",
      "Prob(Omnibus):                  0.000   Jarque-Bera (JB):               35.056\n",
      "Skew:                           0.480   Prob(JB):                     2.44e-08\n",
      "Kurtosis:                       3.146   Cond. No.                         13.9\n",
      "==============================================================================\n",
      "\n",
      "Notes:\n",
      "[1] Standard Errors assume that the covariance matrix of the errors is correctly specified.\n"
     ]
    }
   ],
   "source": [
    "olsX = X.drop(['Sex','Embarked','Fare','Master','ProffesionTitle','bigFamily','Rev'], axis=1)\n",
    "lm = sm.OLS(scaledData['Survived'], sm.add_constant(olsX))\n",
    "print(lm.fit().summary())"
   ]
  },
  {
   "cell_type": "code",
   "execution_count": 31,
   "id": "1557a64d",
   "metadata": {
    "slideshow": {
     "slide_type": "subslide"
    }
   },
   "outputs": [
    {
     "name": "stdout",
     "output_type": "stream",
     "text": [
      "                            OLS Regression Results                            \n",
      "==============================================================================\n",
      "Dep. Variable:               Survived   R-squared:                       0.401\n",
      "Model:                            OLS   Adj. R-squared:                  0.396\n",
      "Method:                 Least Squares   F-statistic:                     84.41\n",
      "Date:                Sat, 20 May 2023   Prob (F-statistic):           7.46e-94\n",
      "Time:                        12:22:19   Log-Likelihood:                -393.72\n",
      "No. Observations:                 891   AIC:                             803.4\n",
      "Df Residuals:                     883   BIC:                             841.8\n",
      "Df Model:                           7                                         \n",
      "Covariance Type:            nonrobust                                         \n",
      "==============================================================================\n",
      "                 coef    std err          t      P>|t|      [0.025      0.975]\n",
      "------------------------------------------------------------------------------\n",
      "const          0.7960      0.069     11.530      0.000       0.661       0.932\n",
      "Pclass        -0.3319      0.032    -10.248      0.000      -0.395      -0.268\n",
      "Age           -0.1890      0.097     -1.945      0.052      -0.380       0.002\n",
      "Miss           0.1686      0.060      2.805      0.005       0.051       0.286\n",
      "Mr            -0.3556      0.058     -6.109      0.000      -0.470      -0.241\n",
      "Mrs            0.2573      0.064      4.019      0.000       0.132       0.383\n",
      "Rev           -0.5525      0.165     -3.350      0.001      -0.876      -0.229\n",
      "alone          0.0620      0.030      2.067      0.039       0.003       0.121\n",
      "==============================================================================\n",
      "Omnibus:                       30.570   Durbin-Watson:                   1.966\n",
      "Prob(Omnibus):                  0.000   Jarque-Bera (JB):               32.810\n",
      "Skew:                           0.459   Prob(JB):                     7.51e-08\n",
      "Kurtosis:                       3.200   Cond. No.                         21.7\n",
      "==============================================================================\n",
      "\n",
      "Notes:\n",
      "[1] Standard Errors assume that the covariance matrix of the errors is correctly specified.\n"
     ]
    }
   ],
   "source": [
    "olsX = X.drop(['Sex','Embarked','Fare','Master','ProffesionTitle','bigFamily'], axis=1)\n",
    "lm = sm.OLS(scaledData['Survived'], sm.add_constant(olsX))\n",
    "print(lm.fit().summary())"
   ]
  },
  {
   "cell_type": "code",
   "execution_count": 51,
   "id": "bd1b7d9e",
   "metadata": {
    "slideshow": {
     "slide_type": "subslide"
    }
   },
   "outputs": [
    {
     "name": "stdout",
     "output_type": "stream",
     "text": [
      "                            OLS Regression Results                            \n",
      "==============================================================================\n",
      "Dep. Variable:               Survived   R-squared:                       0.438\n",
      "Model:                            OLS   Adj. R-squared:                  0.433\n",
      "Method:                 Least Squares   F-statistic:                     86.04\n",
      "Date:                Sat, 20 May 2023   Prob (F-statistic):          4.07e-105\n",
      "Time:                        12:34:32   Log-Likelihood:                -364.97\n",
      "No. Observations:                 891   AIC:                             747.9\n",
      "Df Residuals:                     882   BIC:                             791.1\n",
      "Df Model:                           8                                         \n",
      "Covariance Type:            nonrobust                                         \n",
      "==============================================================================\n",
      "                 coef    std err          t      P>|t|      [0.025      0.975]\n",
      "------------------------------------------------------------------------------\n",
      "const          0.9189      0.069     13.360      0.000       0.784       1.054\n",
      "Pclass        -0.2822      0.032     -8.809      0.000      -0.345      -0.219\n",
      "Age           -0.1890      0.094     -2.007      0.045      -0.374      -0.004\n",
      "Miss           0.1040      0.059      1.769      0.077      -0.011       0.219\n",
      "Mr            -0.4514      0.058     -7.815      0.000      -0.565      -0.338\n",
      "Mrs            0.1544      0.063      2.434      0.015       0.030       0.279\n",
      "Rev           -0.6540      0.160     -4.079      0.000      -0.969      -0.339\n",
      "alone         -0.0072      0.030     -0.237      0.812      -0.067       0.053\n",
      "bigFamily     -0.4155      0.054     -7.667      0.000      -0.522      -0.309\n",
      "==============================================================================\n",
      "Omnibus:                       40.023   Durbin-Watson:                   1.980\n",
      "Prob(Omnibus):                  0.000   Jarque-Bera (JB):               47.205\n",
      "Skew:                           0.474   Prob(JB):                     5.62e-11\n",
      "Kurtosis:                       3.611   Cond. No.                         21.8\n",
      "==============================================================================\n",
      "\n",
      "Notes:\n",
      "[1] Standard Errors assume that the covariance matrix of the errors is correctly specified.\n"
     ]
    }
   ],
   "source": [
    "olsX = X.drop(['Sex','Embarked','Master','Fare','ProffesionTitle'], axis=1)\n",
    "lm = sm.OLS(scaledData['Survived'], sm.add_constant(olsX))\n",
    "print(lm.fit().summary())"
   ]
  },
  {
   "cell_type": "code",
   "execution_count": 33,
   "id": "cc539e5b",
   "metadata": {
    "slideshow": {
     "slide_type": "subslide"
    }
   },
   "outputs": [],
   "source": [
    "scaledData = scaledData.drop(['Sex','Embarked','Fare','Master','ProffesionTitle'], axis=1)\n",
    "scaledTest = scaledTest.drop(['Sex','Embarked','Fare','Master','ProffesionTitle'], axis=1)"
   ]
  },
  {
   "cell_type": "code",
   "execution_count": 34,
   "id": "95bf9a74",
   "metadata": {
    "slideshow": {
     "slide_type": "skip"
    }
   },
   "outputs": [],
   "source": [
    "#scaledData = scaledData.drop(['Sex','Embarked','Master','ProffesionTitle'], axis=1)\n",
    "#scaledTest = scaledTest.drop(['Sex','Embarked','Master','ProffesionTitle'], axis=1)"
   ]
  },
  {
   "cell_type": "code",
   "execution_count": 35,
   "id": "c98db64e",
   "metadata": {
    "slideshow": {
     "slide_type": "skip"
    }
   },
   "outputs": [
    {
     "data": {
      "text/html": [
       "<div>\n",
       "<style scoped>\n",
       "    .dataframe tbody tr th:only-of-type {\n",
       "        vertical-align: middle;\n",
       "    }\n",
       "\n",
       "    .dataframe tbody tr th {\n",
       "        vertical-align: top;\n",
       "    }\n",
       "\n",
       "    .dataframe thead th {\n",
       "        text-align: right;\n",
       "    }\n",
       "</style>\n",
       "<table border=\"1\" class=\"dataframe\">\n",
       "  <thead>\n",
       "    <tr style=\"text-align: right;\">\n",
       "      <th></th>\n",
       "      <th>Survived</th>\n",
       "      <th>Pclass</th>\n",
       "      <th>Age</th>\n",
       "      <th>Miss</th>\n",
       "      <th>Mr</th>\n",
       "      <th>Mrs</th>\n",
       "      <th>Rev</th>\n",
       "      <th>alone</th>\n",
       "      <th>bigFamily</th>\n",
       "    </tr>\n",
       "  </thead>\n",
       "  <tbody>\n",
       "    <tr>\n",
       "      <th>0</th>\n",
       "      <td>0.0</td>\n",
       "      <td>1.0</td>\n",
       "      <td>0.416020</td>\n",
       "      <td>0.0</td>\n",
       "      <td>1.0</td>\n",
       "      <td>0.0</td>\n",
       "      <td>0.0</td>\n",
       "      <td>0.0</td>\n",
       "      <td>0.0</td>\n",
       "    </tr>\n",
       "    <tr>\n",
       "      <th>1</th>\n",
       "      <td>1.0</td>\n",
       "      <td>0.0</td>\n",
       "      <td>0.577118</td>\n",
       "      <td>0.0</td>\n",
       "      <td>0.0</td>\n",
       "      <td>1.0</td>\n",
       "      <td>0.0</td>\n",
       "      <td>0.0</td>\n",
       "      <td>0.0</td>\n",
       "    </tr>\n",
       "    <tr>\n",
       "      <th>2</th>\n",
       "      <td>1.0</td>\n",
       "      <td>1.0</td>\n",
       "      <td>0.456294</td>\n",
       "      <td>1.0</td>\n",
       "      <td>0.0</td>\n",
       "      <td>0.0</td>\n",
       "      <td>0.0</td>\n",
       "      <td>1.0</td>\n",
       "      <td>0.0</td>\n",
       "    </tr>\n",
       "    <tr>\n",
       "      <th>3</th>\n",
       "      <td>1.0</td>\n",
       "      <td>0.0</td>\n",
       "      <td>0.546912</td>\n",
       "      <td>0.0</td>\n",
       "      <td>0.0</td>\n",
       "      <td>1.0</td>\n",
       "      <td>0.0</td>\n",
       "      <td>0.0</td>\n",
       "      <td>0.0</td>\n",
       "    </tr>\n",
       "    <tr>\n",
       "      <th>4</th>\n",
       "      <td>0.0</td>\n",
       "      <td>1.0</td>\n",
       "      <td>0.546912</td>\n",
       "      <td>0.0</td>\n",
       "      <td>1.0</td>\n",
       "      <td>0.0</td>\n",
       "      <td>0.0</td>\n",
       "      <td>1.0</td>\n",
       "      <td>0.0</td>\n",
       "    </tr>\n",
       "    <tr>\n",
       "      <th>...</th>\n",
       "      <td>...</td>\n",
       "      <td>...</td>\n",
       "      <td>...</td>\n",
       "      <td>...</td>\n",
       "      <td>...</td>\n",
       "      <td>...</td>\n",
       "      <td>...</td>\n",
       "      <td>...</td>\n",
       "      <td>...</td>\n",
       "    </tr>\n",
       "    <tr>\n",
       "      <th>886</th>\n",
       "      <td>0.0</td>\n",
       "      <td>0.5</td>\n",
       "      <td>0.466363</td>\n",
       "      <td>0.0</td>\n",
       "      <td>0.0</td>\n",
       "      <td>0.0</td>\n",
       "      <td>1.0</td>\n",
       "      <td>1.0</td>\n",
       "      <td>0.0</td>\n",
       "    </tr>\n",
       "    <tr>\n",
       "      <th>887</th>\n",
       "      <td>1.0</td>\n",
       "      <td>0.0</td>\n",
       "      <td>0.385814</td>\n",
       "      <td>1.0</td>\n",
       "      <td>0.0</td>\n",
       "      <td>0.0</td>\n",
       "      <td>0.0</td>\n",
       "      <td>1.0</td>\n",
       "      <td>0.0</td>\n",
       "    </tr>\n",
       "    <tr>\n",
       "      <th>888</th>\n",
       "      <td>0.0</td>\n",
       "      <td>1.0</td>\n",
       "      <td>0.411650</td>\n",
       "      <td>1.0</td>\n",
       "      <td>0.0</td>\n",
       "      <td>0.0</td>\n",
       "      <td>0.0</td>\n",
       "      <td>0.0</td>\n",
       "      <td>0.0</td>\n",
       "    </tr>\n",
       "    <tr>\n",
       "      <th>889</th>\n",
       "      <td>1.0</td>\n",
       "      <td>0.0</td>\n",
       "      <td>0.456294</td>\n",
       "      <td>0.0</td>\n",
       "      <td>1.0</td>\n",
       "      <td>0.0</td>\n",
       "      <td>0.0</td>\n",
       "      <td>1.0</td>\n",
       "      <td>0.0</td>\n",
       "    </tr>\n",
       "    <tr>\n",
       "      <th>890</th>\n",
       "      <td>0.0</td>\n",
       "      <td>1.0</td>\n",
       "      <td>0.516706</td>\n",
       "      <td>0.0</td>\n",
       "      <td>1.0</td>\n",
       "      <td>0.0</td>\n",
       "      <td>0.0</td>\n",
       "      <td>1.0</td>\n",
       "      <td>0.0</td>\n",
       "    </tr>\n",
       "  </tbody>\n",
       "</table>\n",
       "<p>891 rows × 9 columns</p>\n",
       "</div>"
      ],
      "text/plain": [
       "     Survived  Pclass       Age  Miss   Mr  Mrs  Rev  alone  bigFamily\n",
       "0         0.0     1.0  0.416020   0.0  1.0  0.0  0.0    0.0        0.0\n",
       "1         1.0     0.0  0.577118   0.0  0.0  1.0  0.0    0.0        0.0\n",
       "2         1.0     1.0  0.456294   1.0  0.0  0.0  0.0    1.0        0.0\n",
       "3         1.0     0.0  0.546912   0.0  0.0  1.0  0.0    0.0        0.0\n",
       "4         0.0     1.0  0.546912   0.0  1.0  0.0  0.0    1.0        0.0\n",
       "..        ...     ...       ...   ...  ...  ...  ...    ...        ...\n",
       "886       0.0     0.5  0.466363   0.0  0.0  0.0  1.0    1.0        0.0\n",
       "887       1.0     0.0  0.385814   1.0  0.0  0.0  0.0    1.0        0.0\n",
       "888       0.0     1.0  0.411650   1.0  0.0  0.0  0.0    0.0        0.0\n",
       "889       1.0     0.0  0.456294   0.0  1.0  0.0  0.0    1.0        0.0\n",
       "890       0.0     1.0  0.516706   0.0  1.0  0.0  0.0    1.0        0.0\n",
       "\n",
       "[891 rows x 9 columns]"
      ]
     },
     "execution_count": 35,
     "metadata": {},
     "output_type": "execute_result"
    }
   ],
   "source": [
    "scaledData"
   ]
  },
  {
   "cell_type": "markdown",
   "id": "7315b7f3",
   "metadata": {
    "slideshow": {
     "slide_type": "slide"
    }
   },
   "source": [
    "# Spliting a training set:"
   ]
  },
  {
   "cell_type": "code",
   "execution_count": 36,
   "id": "afbd9f02",
   "metadata": {
    "slideshow": {
     "slide_type": "fragment"
    }
   },
   "outputs": [],
   "source": [
    "X_train, X_val, y_train, y_val = train_test_split(\n",
    "    scaledData.drop(['Survived'], axis=1),\n",
    "    scaledData['Survived'],\n",
    "    test_size=0.2, random_state=42)"
   ]
  },
  {
   "cell_type": "markdown",
   "id": "7f1b13df",
   "metadata": {
    "slideshow": {
     "slide_type": "slide"
    }
   },
   "source": [
    "# Random forest:"
   ]
  },
  {
   "cell_type": "code",
   "execution_count": 38,
   "id": "2971182c",
   "metadata": {
    "slideshow": {
     "slide_type": "fragment"
    }
   },
   "outputs": [],
   "source": [
    "RandomForestModel = RandomForestClassifier(random_state=2137,n_estimators=2000, = 5)"
   ]
  },
  {
   "cell_type": "markdown",
   "id": "a394e83b",
   "metadata": {
    "slideshow": {
     "slide_type": "subslide"
    }
   },
   "source": [
    "## Hyperparameter tuning:"
   ]
  },
  {
   "cell_type": "code",
   "execution_count": null,
   "id": "6e484449",
   "metadata": {},
   "outputs": [],
   "source": []
  },
  {
   "cell_type": "code",
   "execution_count": null,
   "id": "1b4f571a",
   "metadata": {},
   "outputs": [],
   "source": []
  },
  {
   "cell_type": "raw",
   "id": "460c0484",
   "metadata": {
    "slideshow": {
     "slide_type": "fragment"
    }
   },
   "source": [
    "max_depth = [None, 3, 4, 5, 6]\n",
    "criterion = ['gini', 'entropy']\n",
    "class_weight = [N. one, 'balanced', 'balanced_subsample']\n",
    "param_grid = dict(max_depth=max_depth,criterion=criterion,class_weight=class_weight)\n",
    "\n",
    "grid = GridSearchCV(estimator=RandomForestModel, \n",
    "                    param_grid=param_grid,\n",
    "                    n_jobs=-1)\n",
    "\n",
    "grid_result = grid.fit(X_train, y_train)\n",
    "\n",
    "print(grid_result.best_params_)\n",
    "print(grid_result.best_score_)"
   ]
  },
  {
   "cell_type": "markdown",
   "id": "d4b8e26a",
   "metadata": {
    "slideshow": {
     "slide_type": "subslide"
    }
   },
   "source": [
    "## Fitting the model:"
   ]
  },
  {
   "cell_type": "code",
   "execution_count": 41,
   "id": "18084069",
   "metadata": {
    "slideshow": {
     "slide_type": "subslide"
    }
   },
   "outputs": [],
   "source": [
    "def scores(target,prediction):\n",
    "    cm = confusion_matrix(target, prediction)\n",
    "    #N = dead\n",
    "    #P = survived\n",
    "    \n",
    "    TN = cm[0,0]\n",
    "    TP = cm[1,1]\n",
    "    FP = cm[1,0]\n",
    "    FN = cm[0,1]\n",
    "    \n",
    "    print(\"Accuracy = \"+ str((TP+TN)/(TP+TN+FN+FP)))\n",
    "    print(\"Recall (rate of survived people predicted as survived) = \"+ str((TP)/(TP+FN)))\n",
    "    print(\"Precission (how many people predicted as survived have actually survived) = \"+ str((TP)/(TP+FP)))\n",
    "    \n",
    "    print(cm)"
   ]
  },
  {
   "cell_type": "code",
   "execution_count": 43,
   "id": "b937ae04",
   "metadata": {
    "slideshow": {
     "slide_type": "subslide"
    }
   },
   "outputs": [
    {
     "name": "stdout",
     "output_type": "stream",
     "text": [
      "Accuracy = 0.7932960893854749\n",
      "Recall (rate of survived people predicted as survived) = 0.7681159420289855\n",
      "Precission (how many people predicted as survived have actually survived) = 0.7162162162162162\n",
      "[[89 16]\n",
      " [21 53]]\n"
     ]
    }
   ],
   "source": [
    "RandomForestModel = RandomForestClassifier(random_state=2137,\n",
    "                                           n_estimators=2000,\n",
    "                                           criterion='entropy',\n",
    "                                           class_weight=None,\n",
    "                                           Tji=5,\n",
    "                                           min_samples_leaf = 5)\n",
    "\n",
    "RandomForestModel.fit(X_train, y_train)\n",
    "scores(y_val, RandomForestModel.predict(X_val))\n",
    "\n",
    "predictionsRandomForestModel = RandomForestModel.predict(scaledTest)"
   ]
  },
  {
   "cell_type": "markdown",
   "id": "9482c9cc",
   "metadata": {
    "slideshow": {
     "slide_type": "slide"
    }
   },
   "source": [
    "# Logistic regression:"
   ]
  },
  {
   "cell_type": "code",
   "execution_count": 44,
   "id": "59517ca0",
   "metadata": {
    "slideshow": {
     "slide_type": "fragment"
    }
   },
   "outputs": [
    {
     "name": "stdout",
     "output_type": "stream",
     "text": [
      "Accuracy = 0.7988826815642458\n",
      "Recall (rate of survived people predicted as survived) = 0.7794117647058824\n",
      "Precission (how many people predicted as survived have actually survived) = 0.7162162162162162\n",
      "[[90 15]\n",
      " [21 53]]\n"
     ]
    }
   ],
   "source": [
    "LogisticRegressionModel = LogisticRegression(random_state=0,max_iter=1000)\n",
    "LogisticRegressionModel.fit(X_train, y_train)\n",
    "scores(y_val, LogisticRegressionModel.predict(X_val))\n",
    "\n",
    "predictionsLogisticRegressionModel = LogisticRegressionModel.predict(scaledTest)"
   ]
  },
  {
   "cell_type": "markdown",
   "id": "c4004086",
   "metadata": {
    "slideshow": {
     "slide_type": "slide"
    }
   },
   "source": [
    "# KNN:"
   ]
  },
  {
   "cell_type": "code",
   "execution_count": 45,
   "id": "349e8149",
   "metadata": {
    "slideshow": {
     "slide_type": "fragment"
    }
   },
   "outputs": [],
   "source": [
    "KNNmodel = KNeighborsClassifier()"
   ]
  },
  {
   "cell_type": "markdown",
   "id": "76c78c80",
   "metadata": {
    "slideshow": {
     "slide_type": "subslide"
    }
   },
   "source": [
    "## Hyperparameter tuning:"
   ]
  },
  {
   "cell_type": "code",
   "execution_count": 46,
   "id": "98787263",
   "metadata": {
    "slideshow": {
     "slide_type": "fragment"
    }
   },
   "outputs": [
    {
     "name": "stdout",
     "output_type": "stream",
     "text": [
      "{'metric': 'euclidean', 'n_neighbors': 13, 'weights': 'uniform'}\n",
      "0.828612232837585\n"
     ]
    }
   ],
   "source": [
    "n_neighbors = range(1, 21, 2)\n",
    "weights = ['uniform', 'distance']\n",
    "metric = ['euclidean', 'minkowski']\n",
    "\n",
    "\n",
    "param_grid = dict(n_neighbors=n_neighbors,weights=weights,metric=metric)\n",
    "\n",
    "grid = GridSearchCV(estimator=KNNmodel, \n",
    "                    param_grid=param_grid,\n",
    "                    n_jobs=-1)\n",
    "\n",
    "grid_result = grid.fit(X_train, y_train)\n",
    "\n",
    "print(grid_result.best_params_)\n",
    "print(grid_result.best_score_)"
   ]
  },
  {
   "cell_type": "code",
   "execution_count": 47,
   "id": "a73d83bc",
   "metadata": {},
   "outputs": [
    {
     "name": "stdout",
     "output_type": "stream",
     "text": [
      "Accuracy = 0.7988826815642458\n",
      "Recall (rate of survived people predicted as survived) = 0.8166666666666667\n",
      "Precission (how many people predicted as survived have actually survived) = 0.6621621621621622\n",
      "[[94 11]\n",
      " [25 49]]\n"
     ]
    }
   ],
   "source": [
    "KNNmodel = KNeighborsClassifier(metric='euclidean', n_neighbors = 11, weights = 'uniform')\n",
    "KNNmodel.fit(X_train, y_train)\n",
    "scores(y_val, KNNmodel.predict(X_val))\n",
    "\n",
    "predictionsKNN = KNNmodel.predict(scaledTest)"
   ]
  },
  {
   "cell_type": "markdown",
   "id": "c1e56020",
   "metadata": {
    "slideshow": {
     "slide_type": "slide"
    }
   },
   "source": [
    "# Saving the submission file:"
   ]
  },
  {
   "cell_type": "code",
   "execution_count": 50,
   "id": "76e84db1",
   "metadata": {
    "slideshow": {
     "slide_type": "fragment"
    }
   },
   "outputs": [],
   "source": [
    "df = pd.DataFrame({\n",
    "    \"PassengerId\":test_ids.values,\n",
    "    \"Survived\":predictionsKNN.astype(int),\n",
    "})\n",
    "df.to_csv(\"submission.csv\", index=False)"
   ]
  },
  {
   "cell_type": "code",
   "execution_count": null,
   "id": "f8267d08",
   "metadata": {},
   "outputs": [],
   "source": []
  }
 ],
 "metadata": {
  "celltoolbar": "Slideshow",
  "kernelspec": {
   "display_name": "Python 3 (ipykernel)",
   "language": "python",
   "name": "python3"
  },
  "language_info": {
   "codemirror_mode": {
    "name": "ipython",
    "version": 3
   },
   "file_extension": ".py",
   "mimetype": "text/x-python",
   "name": "python",
   "nbconvert_exporter": "python",
   "pygments_lexer": "ipython3",
   "version": "3.9.12"
  }
 },
 "nbformat": 4,
 "nbformat_minor": 5
}
